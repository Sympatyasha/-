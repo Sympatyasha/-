{
 "cells": [
  {
   "cell_type": "markdown",
   "id": "f14588be",
   "metadata": {},
   "source": [
    "<font color='DarkBlue' size=+2><b>Комментарий ревьюера</b></font><br>\n",
    "<font color='DarkBlue'>Привет, Николай! <br>Меня зовут Олег Мазуренко, и я буду проверять этот проект. Спасибо за проделанную работу! <br>Ко мне можно обращаться на «ты». Как мне обращаться, напиши.</font><br>\n",
    "<font color='DarkBlue'>Я буду использовать различные цвета, чтобы было удобнее воспринимать мои комментарии:</font><br>\n",
    "<font color='DarkBlue'>Синий текст &mdash; просто текст комментария.</font><br>\n",
    "<font color='DarkGreen'>👌 Зеленый текст &mdash; все отлично.</font><br>\n",
    "<font color='DarkMagenta'>👉 Фиолетовый текст &mdash; сделано все правильно, однако есть рекомендации, на что стоит обратить внимание. Реализованные рекомендации позволят нам наработать опыт решения задачи разными способами или посмотреть на задачу под иным углом.</font><br>\n",
    "<font color='Red'>🛠 Красный текст &mdash; есть недочеты, они иногда бывают. </font><br><font color='DarkBlue'>Любая ошибка это возможность посмотреть на задачу с другой стороны и освоить новые знания, по этому не надо расстраиваться, если они есть.</font><br>\n",
    "<font color='DarkBlue'>Обращаю внимание, что комментарии ревьюера после проверки удалять нельзя они помогают отследить логику исправления или изменения проекта. Это дополнительный навык при обучении. Свой исправляемый код лучше тоже не удалять, а ремить #, это позволит акцентировать изменения в ходе подготовки окончательного варианта проекта.<br>\n",
    "Ответы на мои комментарии лучше тоже помечать. \n",
    "Например: </font><font color='Blue'><b>Комментарий студента</b></font><br>\n",
    "<font color='DarkBlue'><b>Теперь посмотрим, что у нас получилось!</b></font>"
   ]
  },
  {
   "cell_type": "markdown",
   "id": "386f2ae7",
   "metadata": {
    "deletable": false,
    "editable": false,
    "id": "386f2ae7"
   },
   "source": [
    "# Исследование надежности заемщиков\n"
   ]
  },
  {
   "cell_type": "markdown",
   "id": "268ab083",
   "metadata": {},
   "source": [
    "## Введение"
   ]
  },
  {
   "cell_type": "markdown",
   "id": "64347aac",
   "metadata": {},
   "source": [
    "**Описание проекта**\n",
    "\n",
    "Заказчик — кредитный отдел банка. Нужно разобраться, влияет ли семейное положение и количество детей клиента на факт погашения кредита в срок. Входные данные от банка — статистика о платёжеспособности клиентов.\n",
    "\n",
    "Результаты исследования будут учтены при построении модели кредитного скоринга — специальной системы, которая оценивает способность потенциального заёмщика вернуть кредит банку.\n",
    "\n",
    "**Описание данных**\n",
    "\n",
    "- `children` — количество детей в семье\n",
    "- `days_employed` — общий трудовой стаж в днях\n",
    "- `dob_years` — возраст клиента в годах\n",
    "- `education` — уровень образования клиента\n",
    "- `education_id` — идентификатор уровня образования\n",
    "- `family_status` — семейное положение\n",
    "- `family_status_id` — идентификатор семейного положения\n",
    "- `gender` — пол клиента\n",
    "- `income_type` — тип занятости\n",
    "- `debt` — имел ли задолженность по возврату кредитов\n",
    "- `total_income` — ежемесячный доход\n",
    "- `purpose` — цель получения кредита"
   ]
  },
  {
   "cell_type": "markdown",
   "id": "d1687fcf",
   "metadata": {},
   "source": [
    "<font color='DarkBlue'><b>Комментарий ревьюера 2</b></font><br>\n",
    "<font color='DarkGreen'>👌 Все проекты, это как часть реального исследования, за которое деньги заплатят или не заплатят. <br>А отчет читают: сначала описание, о чем идет речь и что делаем, потом выводы: что в итоге получили. А когда у заказчика в голове все сложилось, то смотрят как это делалось. То есть, в описании необходимо отразить какая цель исследования, какой контекст (особенности отрасли и данных), что мы планируем делать (план исследования). <br>И в реальном проекте не будет инструкции и задач, которые необходимо выполнить, по этому следует научиться делать описание проекта самостоятельно.</font>"
   ]
  },
  {
   "cell_type": "markdown",
   "id": "a3d7ab8d",
   "metadata": {},
   "source": [
    "<font color='DarkBlue'><b>Комментарий ревьюера</b></font><br>\n",
    "<font color='DarkMagenta'>👉 Хочу обратить внимание, что во всех следующих проектах необходимо будет делать описание проекта. Где отразить какая цель исследования, какой контекст (особенности отрасли и данных), что планируем делать (план исследования). <br>В реальном проекте не будет инструкции и задач, которые необходимо выполнить, по этому будем учиться делать описание проекта самостоятельно.</font>"
   ]
  },
  {
   "cell_type": "markdown",
   "id": "8e43cf98",
   "metadata": {},
   "source": [
    "<font color='Blue'><b>Внес описание, которое предлагал сам практикум. Могли бы вы помочь сформулировать цель проекта?</b></font>"
   ]
  },
  {
   "cell_type": "markdown",
   "id": "05a291da",
   "metadata": {},
   "source": [
    "<font color='DarkBlue'><b>Комментарий ревьюера 2</b></font><br>\n",
    "<font color='DarkMagenta'>👉 Цель исследования: определение демографических параметров, включая доход, и целей кредита заемщиков на своевременность погашения кредита.</font>"
   ]
  },
  {
   "cell_type": "markdown",
   "id": "ffe86f65",
   "metadata": {
    "deletable": false,
    "editable": false,
    "id": "ffe86f65"
   },
   "source": [
    "Во второй части проекта вы выполните шаги 3 и 4. Их вручную проверит ревьюер.\n",
    "Чтобы вам не пришлось писать код заново для шагов 1 и 2, мы добавили авторские решения в ячейки с кодом. \n",
    "\n"
   ]
  },
  {
   "cell_type": "markdown",
   "id": "26613308",
   "metadata": {
    "deletable": false,
    "editable": false,
    "id": "26613308"
   },
   "source": [
    "## Откройте таблицу и изучите общую информацию о данных"
   ]
  },
  {
   "cell_type": "markdown",
   "id": "3c9f838e",
   "metadata": {
    "deletable": false,
    "editable": false,
    "id": "3c9f838e"
   },
   "source": [
    "**Задание 1. Импортируйте библиотеку pandas. Считайте данные из csv-файла в датафрейм и сохраните в переменную `data`. Путь к файлу:**\n",
    "\n",
    "`/datasets/data.csv`"
   ]
  },
  {
   "cell_type": "code",
   "execution_count": 1,
   "id": "77a68a90",
   "metadata": {
    "deletable": false,
    "id": "77a68a90"
   },
   "outputs": [],
   "source": [
    "import pandas as pd\n",
    "\n",
    "try:\n",
    "    data = pd.read_csv('/datasets/data.csv')\n",
    "except:\n",
    "    data = pd.read_csv('https://code.s3.yandex.net/datasets/data.csv')"
   ]
  },
  {
   "cell_type": "markdown",
   "id": "45365635",
   "metadata": {
    "deletable": false,
    "editable": false,
    "id": "45365635"
   },
   "source": [
    "**Задание 2. Выведите первые 20 строчек датафрейма `data` на экран.**"
   ]
  },
  {
   "cell_type": "code",
   "execution_count": 2,
   "id": "b0451a9a",
   "metadata": {
    "deletable": false,
    "id": "b0451a9a",
    "outputId": "1a8f3ef2-d323-4ec2-ddf7-89670b5944c4",
    "scrolled": false
   },
   "outputs": [
    {
     "data": {
      "text/html": [
       "<div>\n",
       "<style scoped>\n",
       "    .dataframe tbody tr th:only-of-type {\n",
       "        vertical-align: middle;\n",
       "    }\n",
       "\n",
       "    .dataframe tbody tr th {\n",
       "        vertical-align: top;\n",
       "    }\n",
       "\n",
       "    .dataframe thead th {\n",
       "        text-align: right;\n",
       "    }\n",
       "</style>\n",
       "<table border=\"1\" class=\"dataframe\">\n",
       "  <thead>\n",
       "    <tr style=\"text-align: right;\">\n",
       "      <th></th>\n",
       "      <th>children</th>\n",
       "      <th>days_employed</th>\n",
       "      <th>dob_years</th>\n",
       "      <th>education</th>\n",
       "      <th>education_id</th>\n",
       "      <th>family_status</th>\n",
       "      <th>family_status_id</th>\n",
       "      <th>gender</th>\n",
       "      <th>income_type</th>\n",
       "      <th>debt</th>\n",
       "      <th>total_income</th>\n",
       "      <th>purpose</th>\n",
       "    </tr>\n",
       "  </thead>\n",
       "  <tbody>\n",
       "    <tr>\n",
       "      <th>0</th>\n",
       "      <td>1</td>\n",
       "      <td>-8437.673028</td>\n",
       "      <td>42</td>\n",
       "      <td>высшее</td>\n",
       "      <td>0</td>\n",
       "      <td>женат / замужем</td>\n",
       "      <td>0</td>\n",
       "      <td>F</td>\n",
       "      <td>сотрудник</td>\n",
       "      <td>0</td>\n",
       "      <td>253875.639453</td>\n",
       "      <td>покупка жилья</td>\n",
       "    </tr>\n",
       "    <tr>\n",
       "      <th>1</th>\n",
       "      <td>1</td>\n",
       "      <td>-4024.803754</td>\n",
       "      <td>36</td>\n",
       "      <td>среднее</td>\n",
       "      <td>1</td>\n",
       "      <td>женат / замужем</td>\n",
       "      <td>0</td>\n",
       "      <td>F</td>\n",
       "      <td>сотрудник</td>\n",
       "      <td>0</td>\n",
       "      <td>112080.014102</td>\n",
       "      <td>приобретение автомобиля</td>\n",
       "    </tr>\n",
       "    <tr>\n",
       "      <th>2</th>\n",
       "      <td>0</td>\n",
       "      <td>-5623.422610</td>\n",
       "      <td>33</td>\n",
       "      <td>Среднее</td>\n",
       "      <td>1</td>\n",
       "      <td>женат / замужем</td>\n",
       "      <td>0</td>\n",
       "      <td>M</td>\n",
       "      <td>сотрудник</td>\n",
       "      <td>0</td>\n",
       "      <td>145885.952297</td>\n",
       "      <td>покупка жилья</td>\n",
       "    </tr>\n",
       "    <tr>\n",
       "      <th>3</th>\n",
       "      <td>3</td>\n",
       "      <td>-4124.747207</td>\n",
       "      <td>32</td>\n",
       "      <td>среднее</td>\n",
       "      <td>1</td>\n",
       "      <td>женат / замужем</td>\n",
       "      <td>0</td>\n",
       "      <td>M</td>\n",
       "      <td>сотрудник</td>\n",
       "      <td>0</td>\n",
       "      <td>267628.550329</td>\n",
       "      <td>дополнительное образование</td>\n",
       "    </tr>\n",
       "    <tr>\n",
       "      <th>4</th>\n",
       "      <td>0</td>\n",
       "      <td>340266.072047</td>\n",
       "      <td>53</td>\n",
       "      <td>среднее</td>\n",
       "      <td>1</td>\n",
       "      <td>гражданский брак</td>\n",
       "      <td>1</td>\n",
       "      <td>F</td>\n",
       "      <td>пенсионер</td>\n",
       "      <td>0</td>\n",
       "      <td>158616.077870</td>\n",
       "      <td>сыграть свадьбу</td>\n",
       "    </tr>\n",
       "    <tr>\n",
       "      <th>5</th>\n",
       "      <td>0</td>\n",
       "      <td>-926.185831</td>\n",
       "      <td>27</td>\n",
       "      <td>высшее</td>\n",
       "      <td>0</td>\n",
       "      <td>гражданский брак</td>\n",
       "      <td>1</td>\n",
       "      <td>M</td>\n",
       "      <td>компаньон</td>\n",
       "      <td>0</td>\n",
       "      <td>255763.565419</td>\n",
       "      <td>покупка жилья</td>\n",
       "    </tr>\n",
       "    <tr>\n",
       "      <th>6</th>\n",
       "      <td>0</td>\n",
       "      <td>-2879.202052</td>\n",
       "      <td>43</td>\n",
       "      <td>высшее</td>\n",
       "      <td>0</td>\n",
       "      <td>женат / замужем</td>\n",
       "      <td>0</td>\n",
       "      <td>F</td>\n",
       "      <td>компаньон</td>\n",
       "      <td>0</td>\n",
       "      <td>240525.971920</td>\n",
       "      <td>операции с жильем</td>\n",
       "    </tr>\n",
       "    <tr>\n",
       "      <th>7</th>\n",
       "      <td>0</td>\n",
       "      <td>-152.779569</td>\n",
       "      <td>50</td>\n",
       "      <td>СРЕДНЕЕ</td>\n",
       "      <td>1</td>\n",
       "      <td>женат / замужем</td>\n",
       "      <td>0</td>\n",
       "      <td>M</td>\n",
       "      <td>сотрудник</td>\n",
       "      <td>0</td>\n",
       "      <td>135823.934197</td>\n",
       "      <td>образование</td>\n",
       "    </tr>\n",
       "    <tr>\n",
       "      <th>8</th>\n",
       "      <td>2</td>\n",
       "      <td>-6929.865299</td>\n",
       "      <td>35</td>\n",
       "      <td>ВЫСШЕЕ</td>\n",
       "      <td>0</td>\n",
       "      <td>гражданский брак</td>\n",
       "      <td>1</td>\n",
       "      <td>F</td>\n",
       "      <td>сотрудник</td>\n",
       "      <td>0</td>\n",
       "      <td>95856.832424</td>\n",
       "      <td>на проведение свадьбы</td>\n",
       "    </tr>\n",
       "    <tr>\n",
       "      <th>9</th>\n",
       "      <td>0</td>\n",
       "      <td>-2188.756445</td>\n",
       "      <td>41</td>\n",
       "      <td>среднее</td>\n",
       "      <td>1</td>\n",
       "      <td>женат / замужем</td>\n",
       "      <td>0</td>\n",
       "      <td>M</td>\n",
       "      <td>сотрудник</td>\n",
       "      <td>0</td>\n",
       "      <td>144425.938277</td>\n",
       "      <td>покупка жилья для семьи</td>\n",
       "    </tr>\n",
       "    <tr>\n",
       "      <th>10</th>\n",
       "      <td>2</td>\n",
       "      <td>-4171.483647</td>\n",
       "      <td>36</td>\n",
       "      <td>высшее</td>\n",
       "      <td>0</td>\n",
       "      <td>женат / замужем</td>\n",
       "      <td>0</td>\n",
       "      <td>M</td>\n",
       "      <td>компаньон</td>\n",
       "      <td>0</td>\n",
       "      <td>113943.491460</td>\n",
       "      <td>покупка недвижимости</td>\n",
       "    </tr>\n",
       "    <tr>\n",
       "      <th>11</th>\n",
       "      <td>0</td>\n",
       "      <td>-792.701887</td>\n",
       "      <td>40</td>\n",
       "      <td>среднее</td>\n",
       "      <td>1</td>\n",
       "      <td>женат / замужем</td>\n",
       "      <td>0</td>\n",
       "      <td>F</td>\n",
       "      <td>сотрудник</td>\n",
       "      <td>0</td>\n",
       "      <td>77069.234271</td>\n",
       "      <td>покупка коммерческой недвижимости</td>\n",
       "    </tr>\n",
       "    <tr>\n",
       "      <th>12</th>\n",
       "      <td>0</td>\n",
       "      <td>NaN</td>\n",
       "      <td>65</td>\n",
       "      <td>среднее</td>\n",
       "      <td>1</td>\n",
       "      <td>гражданский брак</td>\n",
       "      <td>1</td>\n",
       "      <td>M</td>\n",
       "      <td>пенсионер</td>\n",
       "      <td>0</td>\n",
       "      <td>NaN</td>\n",
       "      <td>сыграть свадьбу</td>\n",
       "    </tr>\n",
       "    <tr>\n",
       "      <th>13</th>\n",
       "      <td>0</td>\n",
       "      <td>-1846.641941</td>\n",
       "      <td>54</td>\n",
       "      <td>неоконченное высшее</td>\n",
       "      <td>2</td>\n",
       "      <td>женат / замужем</td>\n",
       "      <td>0</td>\n",
       "      <td>F</td>\n",
       "      <td>сотрудник</td>\n",
       "      <td>0</td>\n",
       "      <td>130458.228857</td>\n",
       "      <td>приобретение автомобиля</td>\n",
       "    </tr>\n",
       "    <tr>\n",
       "      <th>14</th>\n",
       "      <td>0</td>\n",
       "      <td>-1844.956182</td>\n",
       "      <td>56</td>\n",
       "      <td>высшее</td>\n",
       "      <td>0</td>\n",
       "      <td>гражданский брак</td>\n",
       "      <td>1</td>\n",
       "      <td>F</td>\n",
       "      <td>компаньон</td>\n",
       "      <td>1</td>\n",
       "      <td>165127.911772</td>\n",
       "      <td>покупка жилой недвижимости</td>\n",
       "    </tr>\n",
       "    <tr>\n",
       "      <th>15</th>\n",
       "      <td>1</td>\n",
       "      <td>-972.364419</td>\n",
       "      <td>26</td>\n",
       "      <td>среднее</td>\n",
       "      <td>1</td>\n",
       "      <td>женат / замужем</td>\n",
       "      <td>0</td>\n",
       "      <td>F</td>\n",
       "      <td>сотрудник</td>\n",
       "      <td>0</td>\n",
       "      <td>116820.904450</td>\n",
       "      <td>строительство собственной недвижимости</td>\n",
       "    </tr>\n",
       "    <tr>\n",
       "      <th>16</th>\n",
       "      <td>0</td>\n",
       "      <td>-1719.934226</td>\n",
       "      <td>35</td>\n",
       "      <td>среднее</td>\n",
       "      <td>1</td>\n",
       "      <td>женат / замужем</td>\n",
       "      <td>0</td>\n",
       "      <td>F</td>\n",
       "      <td>сотрудник</td>\n",
       "      <td>0</td>\n",
       "      <td>289202.704229</td>\n",
       "      <td>недвижимость</td>\n",
       "    </tr>\n",
       "    <tr>\n",
       "      <th>17</th>\n",
       "      <td>0</td>\n",
       "      <td>-2369.999720</td>\n",
       "      <td>33</td>\n",
       "      <td>высшее</td>\n",
       "      <td>0</td>\n",
       "      <td>гражданский брак</td>\n",
       "      <td>1</td>\n",
       "      <td>M</td>\n",
       "      <td>сотрудник</td>\n",
       "      <td>0</td>\n",
       "      <td>90410.586745</td>\n",
       "      <td>строительство недвижимости</td>\n",
       "    </tr>\n",
       "    <tr>\n",
       "      <th>18</th>\n",
       "      <td>0</td>\n",
       "      <td>400281.136913</td>\n",
       "      <td>53</td>\n",
       "      <td>среднее</td>\n",
       "      <td>1</td>\n",
       "      <td>вдовец / вдова</td>\n",
       "      <td>2</td>\n",
       "      <td>F</td>\n",
       "      <td>пенсионер</td>\n",
       "      <td>0</td>\n",
       "      <td>56823.777243</td>\n",
       "      <td>на покупку подержанного автомобиля</td>\n",
       "    </tr>\n",
       "    <tr>\n",
       "      <th>19</th>\n",
       "      <td>0</td>\n",
       "      <td>-10038.818549</td>\n",
       "      <td>48</td>\n",
       "      <td>СРЕДНЕЕ</td>\n",
       "      <td>1</td>\n",
       "      <td>в разводе</td>\n",
       "      <td>3</td>\n",
       "      <td>F</td>\n",
       "      <td>сотрудник</td>\n",
       "      <td>0</td>\n",
       "      <td>242831.107982</td>\n",
       "      <td>на покупку своего автомобиля</td>\n",
       "    </tr>\n",
       "  </tbody>\n",
       "</table>\n",
       "</div>"
      ],
      "text/plain": [
       "    children  days_employed  dob_years            education  education_id  \\\n",
       "0          1   -8437.673028         42               высшее             0   \n",
       "1          1   -4024.803754         36              среднее             1   \n",
       "2          0   -5623.422610         33              Среднее             1   \n",
       "3          3   -4124.747207         32              среднее             1   \n",
       "4          0  340266.072047         53              среднее             1   \n",
       "5          0    -926.185831         27               высшее             0   \n",
       "6          0   -2879.202052         43               высшее             0   \n",
       "7          0    -152.779569         50              СРЕДНЕЕ             1   \n",
       "8          2   -6929.865299         35               ВЫСШЕЕ             0   \n",
       "9          0   -2188.756445         41              среднее             1   \n",
       "10         2   -4171.483647         36               высшее             0   \n",
       "11         0    -792.701887         40              среднее             1   \n",
       "12         0            NaN         65              среднее             1   \n",
       "13         0   -1846.641941         54  неоконченное высшее             2   \n",
       "14         0   -1844.956182         56               высшее             0   \n",
       "15         1    -972.364419         26              среднее             1   \n",
       "16         0   -1719.934226         35              среднее             1   \n",
       "17         0   -2369.999720         33               высшее             0   \n",
       "18         0  400281.136913         53              среднее             1   \n",
       "19         0  -10038.818549         48              СРЕДНЕЕ             1   \n",
       "\n",
       "       family_status  family_status_id gender income_type  debt  \\\n",
       "0    женат / замужем                 0      F   сотрудник     0   \n",
       "1    женат / замужем                 0      F   сотрудник     0   \n",
       "2    женат / замужем                 0      M   сотрудник     0   \n",
       "3    женат / замужем                 0      M   сотрудник     0   \n",
       "4   гражданский брак                 1      F   пенсионер     0   \n",
       "5   гражданский брак                 1      M   компаньон     0   \n",
       "6    женат / замужем                 0      F   компаньон     0   \n",
       "7    женат / замужем                 0      M   сотрудник     0   \n",
       "8   гражданский брак                 1      F   сотрудник     0   \n",
       "9    женат / замужем                 0      M   сотрудник     0   \n",
       "10   женат / замужем                 0      M   компаньон     0   \n",
       "11   женат / замужем                 0      F   сотрудник     0   \n",
       "12  гражданский брак                 1      M   пенсионер     0   \n",
       "13   женат / замужем                 0      F   сотрудник     0   \n",
       "14  гражданский брак                 1      F   компаньон     1   \n",
       "15   женат / замужем                 0      F   сотрудник     0   \n",
       "16   женат / замужем                 0      F   сотрудник     0   \n",
       "17  гражданский брак                 1      M   сотрудник     0   \n",
       "18    вдовец / вдова                 2      F   пенсионер     0   \n",
       "19         в разводе                 3      F   сотрудник     0   \n",
       "\n",
       "     total_income                                 purpose  \n",
       "0   253875.639453                           покупка жилья  \n",
       "1   112080.014102                 приобретение автомобиля  \n",
       "2   145885.952297                           покупка жилья  \n",
       "3   267628.550329              дополнительное образование  \n",
       "4   158616.077870                         сыграть свадьбу  \n",
       "5   255763.565419                           покупка жилья  \n",
       "6   240525.971920                       операции с жильем  \n",
       "7   135823.934197                             образование  \n",
       "8    95856.832424                   на проведение свадьбы  \n",
       "9   144425.938277                 покупка жилья для семьи  \n",
       "10  113943.491460                    покупка недвижимости  \n",
       "11   77069.234271       покупка коммерческой недвижимости  \n",
       "12            NaN                         сыграть свадьбу  \n",
       "13  130458.228857                 приобретение автомобиля  \n",
       "14  165127.911772              покупка жилой недвижимости  \n",
       "15  116820.904450  строительство собственной недвижимости  \n",
       "16  289202.704229                            недвижимость  \n",
       "17   90410.586745              строительство недвижимости  \n",
       "18   56823.777243      на покупку подержанного автомобиля  \n",
       "19  242831.107982            на покупку своего автомобиля  "
      ]
     },
     "execution_count": 2,
     "metadata": {},
     "output_type": "execute_result"
    }
   ],
   "source": [
    "data.head(20)"
   ]
  },
  {
   "cell_type": "markdown",
   "id": "0ed8f27f",
   "metadata": {
    "deletable": false,
    "editable": false,
    "id": "0ed8f27f"
   },
   "source": [
    "**Задание 3. Выведите основную информацию о датафрейме с помощью метода `info()`.**"
   ]
  },
  {
   "cell_type": "code",
   "execution_count": 3,
   "id": "ab3f863b",
   "metadata": {
    "deletable": false,
    "id": "ab3f863b",
    "outputId": "15376089-8dad-46c9-b520-c05248d43158"
   },
   "outputs": [
    {
     "name": "stdout",
     "output_type": "stream",
     "text": [
      "<class 'pandas.core.frame.DataFrame'>\n",
      "RangeIndex: 21525 entries, 0 to 21524\n",
      "Data columns (total 12 columns):\n",
      " #   Column            Non-Null Count  Dtype  \n",
      "---  ------            --------------  -----  \n",
      " 0   children          21525 non-null  int64  \n",
      " 1   days_employed     19351 non-null  float64\n",
      " 2   dob_years         21525 non-null  int64  \n",
      " 3   education         21525 non-null  object \n",
      " 4   education_id      21525 non-null  int64  \n",
      " 5   family_status     21525 non-null  object \n",
      " 6   family_status_id  21525 non-null  int64  \n",
      " 7   gender            21525 non-null  object \n",
      " 8   income_type       21525 non-null  object \n",
      " 9   debt              21525 non-null  int64  \n",
      " 10  total_income      19351 non-null  float64\n",
      " 11  purpose           21525 non-null  object \n",
      "dtypes: float64(2), int64(5), object(5)\n",
      "memory usage: 2.0+ MB\n"
     ]
    }
   ],
   "source": [
    "data.info()"
   ]
  },
  {
   "cell_type": "markdown",
   "id": "60e3e22d",
   "metadata": {
    "deletable": false,
    "editable": false,
    "id": "60e3e22d"
   },
   "source": [
    "## Предобработка данных"
   ]
  },
  {
   "cell_type": "markdown",
   "id": "03dc170c",
   "metadata": {
    "deletable": false,
    "editable": false,
    "id": "03dc170c"
   },
   "source": [
    "### Удаление пропусков"
   ]
  },
  {
   "cell_type": "markdown",
   "id": "a4f54eef",
   "metadata": {
    "deletable": false,
    "editable": false,
    "id": "a4f54eef"
   },
   "source": [
    "**Задание 4. Выведите количество пропущенных значений для каждого столбца. Используйте комбинацию двух методов.**"
   ]
  },
  {
   "cell_type": "code",
   "execution_count": 4,
   "id": "2dc372b2",
   "metadata": {
    "deletable": false,
    "id": "2dc372b2",
    "outputId": "81f4d817-781c-465c-ed15-91ce4446810d"
   },
   "outputs": [
    {
     "data": {
      "text/plain": [
       "children               0\n",
       "days_employed       2174\n",
       "dob_years              0\n",
       "education              0\n",
       "education_id           0\n",
       "family_status          0\n",
       "family_status_id       0\n",
       "gender                 0\n",
       "income_type            0\n",
       "debt                   0\n",
       "total_income        2174\n",
       "purpose                0\n",
       "dtype: int64"
      ]
     },
     "execution_count": 4,
     "metadata": {},
     "output_type": "execute_result"
    }
   ],
   "source": [
    "data.isna().sum()"
   ]
  },
  {
   "cell_type": "markdown",
   "id": "14f011b1",
   "metadata": {
    "deletable": false,
    "editable": false,
    "id": "14f011b1"
   },
   "source": [
    "**Задание 5. В двух столбцах есть пропущенные значения. Один из них — `days_employed`. Пропуски в этом столбце вы обработаете на следующем этапе. Другой столбец с пропущенными значениями — `total_income` — хранит данные о доходах. На сумму дохода сильнее всего влияет тип занятости, поэтому заполнить пропуски в этом столбце нужно медианным значением по каждому типу из столбца `income_type`. Например, у человека с типом занятости `сотрудник` пропуск в столбце `total_income` должен быть заполнен медианным доходом среди всех записей с тем же типом.**"
   ]
  },
  {
   "cell_type": "code",
   "execution_count": 5,
   "id": "bdabfb6e",
   "metadata": {
    "deletable": false,
    "id": "bdabfb6e"
   },
   "outputs": [],
   "source": [
    "for t in data['income_type'].unique():\n",
    "    data.loc[(data['income_type'] == t) & (data['total_income'].isna()), 'total_income'] = \\\n",
    "    data.loc[(data['income_type'] == t), 'total_income'].median()"
   ]
  },
  {
   "cell_type": "markdown",
   "id": "5be34059",
   "metadata": {
    "deletable": false,
    "editable": false,
    "id": "5be34059"
   },
   "source": [
    "### Обработка аномальных значений"
   ]
  },
  {
   "cell_type": "markdown",
   "id": "a87606cb",
   "metadata": {
    "deletable": false,
    "editable": false,
    "id": "a87606cb"
   },
   "source": [
    "**Задание 6. В данных могут встречаться артефакты (аномалии) — значения, которые не отражают действительность и появились по какой-то ошибке. таким артефактом будет отрицательное количество дней трудового стажа в столбце `days_employed`. Для реальных данных это нормально. Обработайте значения в этом столбце: замените все отрицательные значения положительными с помощью метода `abs()`.**"
   ]
  },
  {
   "cell_type": "code",
   "execution_count": 6,
   "id": "020c46cc",
   "metadata": {
    "deletable": false,
    "id": "020c46cc"
   },
   "outputs": [],
   "source": [
    "data['days_employed'] = data['days_employed'].abs()"
   ]
  },
  {
   "cell_type": "markdown",
   "id": "45538a3a",
   "metadata": {
    "deletable": false,
    "editable": false,
    "id": "45538a3a"
   },
   "source": [
    "**Задание 7. Для каждого типа занятости выведите медианное значение трудового стажа `days_employed` в днях.**"
   ]
  },
  {
   "cell_type": "code",
   "execution_count": 7,
   "id": "cd3e6328",
   "metadata": {
    "deletable": false,
    "id": "cd3e6328",
    "outputId": "801ef80e-522b-4668-f34e-565af7432bcf"
   },
   "outputs": [
    {
     "data": {
      "text/plain": [
       "income_type\n",
       "безработный        366413.652744\n",
       "в декрете            3296.759962\n",
       "госслужащий          2689.368353\n",
       "компаньон            1547.382223\n",
       "пенсионер          365213.306266\n",
       "предприниматель       520.848083\n",
       "сотрудник            1574.202821\n",
       "студент               578.751554\n",
       "Name: days_employed, dtype: float64"
      ]
     },
     "execution_count": 7,
     "metadata": {},
     "output_type": "execute_result"
    }
   ],
   "source": [
    "data.groupby('income_type')['days_employed'].agg('median')"
   ]
  },
  {
   "cell_type": "markdown",
   "id": "90c5f058",
   "metadata": {
    "deletable": false,
    "editable": false,
    "id": "90c5f058"
   },
   "source": [
    "У двух типов (безработные и пенсионеры) получатся аномально большие значения. Исправить такие значения сложно, поэтому оставьте их как есть."
   ]
  },
  {
   "cell_type": "markdown",
   "id": "9652e50d",
   "metadata": {
    "deletable": false,
    "editable": false,
    "id": "9652e50d"
   },
   "source": [
    "**Задание 8. Выведите перечень уникальных значений столбца `children`.**"
   ]
  },
  {
   "cell_type": "code",
   "execution_count": 8,
   "id": "dbb37b8e",
   "metadata": {
    "deletable": false,
    "id": "dbb37b8e",
    "outputId": "6975b15c-7f95-4697-d16d-a0c79b657b03"
   },
   "outputs": [
    {
     "data": {
      "text/plain": [
       "array([ 1,  0,  3,  2, -1,  4, 20,  5])"
      ]
     },
     "execution_count": 8,
     "metadata": {},
     "output_type": "execute_result"
    }
   ],
   "source": [
    "data['children'].unique()"
   ]
  },
  {
   "cell_type": "markdown",
   "id": "2b8b0715",
   "metadata": {
    "deletable": false,
    "editable": false,
    "id": "2b8b0715"
   },
   "source": [
    "**Задание 9. В столбце `children` есть два аномальных значения. Удалите строки, в которых встречаются такие аномальные значения из датафрейма `data`.**"
   ]
  },
  {
   "cell_type": "code",
   "execution_count": 9,
   "id": "20009df8",
   "metadata": {
    "deletable": false,
    "id": "20009df8"
   },
   "outputs": [],
   "source": [
    "data = data[(data['children'] != -1) & (data['children'] != 20)]"
   ]
  },
  {
   "cell_type": "markdown",
   "id": "8c6ac9f1",
   "metadata": {
    "deletable": false,
    "editable": false,
    "id": "8c6ac9f1"
   },
   "source": [
    "**Задание 10. Ещё раз выведите перечень уникальных значений столбца `children`, чтобы убедиться, что артефакты удалены.**"
   ]
  },
  {
   "cell_type": "code",
   "execution_count": 10,
   "id": "07337b81",
   "metadata": {
    "deletable": false,
    "id": "07337b81",
    "outputId": "b2097101-d49d-44d9-901b-32a65c9463d1"
   },
   "outputs": [
    {
     "data": {
      "text/plain": [
       "array([1, 0, 3, 2, 4, 5])"
      ]
     },
     "execution_count": 10,
     "metadata": {},
     "output_type": "execute_result"
    }
   ],
   "source": [
    "data['children'].unique()"
   ]
  },
  {
   "cell_type": "markdown",
   "id": "ee3f52d4",
   "metadata": {
    "deletable": false,
    "editable": false,
    "id": "ee3f52d4"
   },
   "source": [
    "### Удаление пропусков (продолжение)"
   ]
  },
  {
   "cell_type": "markdown",
   "id": "a700b0e4",
   "metadata": {
    "deletable": false,
    "editable": false,
    "id": "a700b0e4"
   },
   "source": [
    "**Задание 11. Заполните пропуски в столбце `days_employed` медианными значениями по каждого типа занятости `income_type`.**"
   ]
  },
  {
   "cell_type": "code",
   "execution_count": 11,
   "id": "61946b83",
   "metadata": {
    "deletable": false,
    "id": "61946b83"
   },
   "outputs": [],
   "source": [
    "for t in data['income_type'].unique():\n",
    "    data.loc[(data['income_type'] == t) & (data['days_employed'].isna()), 'days_employed'] = \\\n",
    "    data.loc[(data['income_type'] == t), 'days_employed'].median()"
   ]
  },
  {
   "cell_type": "markdown",
   "id": "550dcd9b",
   "metadata": {
    "deletable": false,
    "editable": false,
    "id": "550dcd9b"
   },
   "source": [
    "**Задание 12. Убедитесь, что все пропуски заполнены. Проверьте себя и ещё раз выведите количество пропущенных значений для каждого столбца с помощью двух методов.**"
   ]
  },
  {
   "cell_type": "code",
   "execution_count": 12,
   "id": "937c7014",
   "metadata": {
    "deletable": false,
    "id": "937c7014",
    "outputId": "8da1e4e1-358e-4e87-98c9-f261bce0a7b2"
   },
   "outputs": [
    {
     "data": {
      "text/plain": [
       "children            0\n",
       "days_employed       0\n",
       "dob_years           0\n",
       "education           0\n",
       "education_id        0\n",
       "family_status       0\n",
       "family_status_id    0\n",
       "gender              0\n",
       "income_type         0\n",
       "debt                0\n",
       "total_income        0\n",
       "purpose             0\n",
       "dtype: int64"
      ]
     },
     "execution_count": 12,
     "metadata": {},
     "output_type": "execute_result"
    }
   ],
   "source": [
    "data.isna().sum()"
   ]
  },
  {
   "cell_type": "markdown",
   "id": "d522e295",
   "metadata": {
    "deletable": false,
    "editable": false,
    "id": "d522e295"
   },
   "source": [
    "### Изменение типов данных"
   ]
  },
  {
   "cell_type": "markdown",
   "id": "c229c581",
   "metadata": {
    "deletable": false,
    "editable": false,
    "id": "c229c581"
   },
   "source": [
    "**Задание 13. Замените вещественный тип данных в столбце `total_income` на целочисленный с помощью метода `astype()`.**"
   ]
  },
  {
   "cell_type": "code",
   "execution_count": 13,
   "id": "31036462",
   "metadata": {
    "deletable": false,
    "id": "31036462"
   },
   "outputs": [],
   "source": [
    "data['total_income'] = data['total_income'].astype(int)"
   ]
  },
  {
   "cell_type": "markdown",
   "id": "b8e3d1d9",
   "metadata": {
    "deletable": false,
    "editable": false,
    "id": "b8e3d1d9"
   },
   "source": [
    "### Обработка дубликатов"
   ]
  },
  {
   "cell_type": "markdown",
   "id": "9be53c49",
   "metadata": {
    "deletable": false,
    "editable": false,
    "id": "9be53c49"
   },
   "source": [
    "**Задание 14. Обработайте неявные дубликаты в столбце `education`. В этом столбце есть одни и те же значения, но записанные по-разному: с использованием заглавных и строчных букв. Приведите их к нижнему регистру.**"
   ]
  },
  {
   "cell_type": "code",
   "execution_count": 14,
   "id": "d89e73e1",
   "metadata": {
    "deletable": false,
    "id": "d89e73e1"
   },
   "outputs": [],
   "source": [
    "data['education'] = data['education'].str.lower()"
   ]
  },
  {
   "cell_type": "markdown",
   "id": "01d4500e",
   "metadata": {
    "deletable": false,
    "editable": false,
    "id": "01d4500e"
   },
   "source": [
    "**Задание 15. Выведите на экран количество строк-дубликатов в данных. Если такие строки присутствуют, удалите их.**"
   ]
  },
  {
   "cell_type": "code",
   "execution_count": 15,
   "id": "e10efb23",
   "metadata": {
    "deletable": false,
    "id": "e10efb23",
    "outputId": "9684deba-1934-42d1-99e1-cda61740f822"
   },
   "outputs": [
    {
     "data": {
      "text/plain": [
       "71"
      ]
     },
     "execution_count": 15,
     "metadata": {},
     "output_type": "execute_result"
    }
   ],
   "source": [
    "data.duplicated().sum()"
   ]
  },
  {
   "cell_type": "code",
   "execution_count": 16,
   "id": "df853f20",
   "metadata": {
    "deletable": false,
    "id": "df853f20"
   },
   "outputs": [],
   "source": [
    "data = data.drop_duplicates()"
   ]
  },
  {
   "cell_type": "markdown",
   "id": "627be38f",
   "metadata": {
    "deletable": false,
    "editable": false,
    "id": "627be38f"
   },
   "source": [
    "### Категоризация данных"
   ]
  },
  {
   "cell_type": "markdown",
   "id": "4684c3e0",
   "metadata": {
    "deletable": false,
    "editable": false,
    "id": "4684c3e0"
   },
   "source": [
    "**Задание 16. На основании диапазонов, указанных ниже, создайте в датафрейме `data` столбец `total_income_category` с категориями:**\n",
    "\n",
    "- 0–30000 — `'E'`;\n",
    "- 30001–50000 — `'D'`;\n",
    "- 50001–200000 — `'C'`;\n",
    "- 200001–1000000 — `'B'`;\n",
    "- 1000001 и выше — `'A'`.\n",
    "\n",
    "\n",
    "**Например, кредитополучателю с доходом 25000 нужно назначить категорию `'E'`, а клиенту, получающему 235000, — `'B'`. Используйте собственную функцию с именем `categorize_income()` и метод `apply()`.**"
   ]
  },
  {
   "cell_type": "code",
   "execution_count": 17,
   "id": "78965238",
   "metadata": {
    "deletable": false,
    "id": "78965238"
   },
   "outputs": [],
   "source": [
    "def categorize_income(income):\n",
    "    try:\n",
    "        if 0 <= income <= 30000:\n",
    "            return 'E'\n",
    "        elif 30001 <= income <= 50000:\n",
    "            return 'D'\n",
    "        elif 50001 <= income <= 200000:\n",
    "            return 'C'\n",
    "        elif 200001 <= income <= 1000000:\n",
    "            return 'B'\n",
    "        elif income >= 1000001:\n",
    "            return 'A'\n",
    "    except:\n",
    "        pass"
   ]
  },
  {
   "cell_type": "code",
   "execution_count": 18,
   "id": "0980ada1",
   "metadata": {
    "deletable": false,
    "id": "0980ada1"
   },
   "outputs": [],
   "source": [
    "data['total_income_category'] = data['total_income'].apply(categorize_income)"
   ]
  },
  {
   "cell_type": "markdown",
   "id": "9917bba0",
   "metadata": {
    "deletable": false,
    "editable": false,
    "id": "9917bba0"
   },
   "source": [
    "**Задание 17. Выведите на экран перечень уникальных целей взятия кредита из столбца `purpose`.**"
   ]
  },
  {
   "cell_type": "code",
   "execution_count": 19,
   "id": "ee07b65e",
   "metadata": {
    "deletable": false,
    "id": "ee07b65e",
    "outputId": "673c12d9-7d7e-4ae0-9812-c622c89dd244"
   },
   "outputs": [
    {
     "data": {
      "text/plain": [
       "array(['покупка жилья', 'приобретение автомобиля',\n",
       "       'дополнительное образование', 'сыграть свадьбу',\n",
       "       'операции с жильем', 'образование', 'на проведение свадьбы',\n",
       "       'покупка жилья для семьи', 'покупка недвижимости',\n",
       "       'покупка коммерческой недвижимости', 'покупка жилой недвижимости',\n",
       "       'строительство собственной недвижимости', 'недвижимость',\n",
       "       'строительство недвижимости', 'на покупку подержанного автомобиля',\n",
       "       'на покупку своего автомобиля',\n",
       "       'операции с коммерческой недвижимостью',\n",
       "       'строительство жилой недвижимости', 'жилье',\n",
       "       'операции со своей недвижимостью', 'автомобили',\n",
       "       'заняться образованием', 'сделка с подержанным автомобилем',\n",
       "       'получение образования', 'автомобиль', 'свадьба',\n",
       "       'получение дополнительного образования', 'покупка своего жилья',\n",
       "       'операции с недвижимостью', 'получение высшего образования',\n",
       "       'свой автомобиль', 'сделка с автомобилем',\n",
       "       'профильное образование', 'высшее образование',\n",
       "       'покупка жилья для сдачи', 'на покупку автомобиля', 'ремонт жилью',\n",
       "       'заняться высшим образованием'], dtype=object)"
      ]
     },
     "execution_count": 19,
     "metadata": {},
     "output_type": "execute_result"
    }
   ],
   "source": [
    "data['purpose'].unique()"
   ]
  },
  {
   "cell_type": "markdown",
   "id": "52b79d56",
   "metadata": {
    "deletable": false,
    "editable": false,
    "id": "52b79d56"
   },
   "source": [
    "**Задание 18. Создайте функцию, которая на основании данных из столбца `purpose` сформирует новый столбец `purpose_category`, в который войдут следующие категории:**\n",
    "\n",
    "- `'операции с автомобилем'`,\n",
    "- `'операции с недвижимостью'`,\n",
    "- `'проведение свадьбы'`,\n",
    "- `'получение образования'`.\n",
    "\n",
    "**Например, если в столбце `purpose` находится подстрока `'на покупку автомобиля'`, то в столбце `purpose_category` должна появиться строка `'операции с автомобилем'`.**\n",
    "\n",
    "**Используйте собственную функцию с именем `categorize_purpose()` и метод `apply()`. Изучите данные в столбце `purpose` и определите, какие подстроки помогут вам правильно определить категорию.**"
   ]
  },
  {
   "cell_type": "code",
   "execution_count": 20,
   "id": "be41da5d",
   "metadata": {
    "deletable": false,
    "id": "be41da5d"
   },
   "outputs": [],
   "source": [
    "def categorize_purpose(row):\n",
    "    try:\n",
    "        if 'автом' in row:\n",
    "            return 'операции с автомобилем'\n",
    "        elif 'жил' in row or 'недвиж' in row:\n",
    "            return 'операции с недвижимостью'\n",
    "        elif 'свад' in row:\n",
    "            return 'проведение свадьбы'\n",
    "        elif 'образов' in row:\n",
    "            return 'получение образования'\n",
    "    except:\n",
    "        return 'нет категории'"
   ]
  },
  {
   "cell_type": "code",
   "execution_count": 21,
   "id": "94c4a19a",
   "metadata": {
    "deletable": false,
    "id": "94c4a19a"
   },
   "outputs": [],
   "source": [
    "data['purpose_category'] = data['purpose'].apply(categorize_purpose)"
   ]
  },
  {
   "cell_type": "markdown",
   "id": "3d596c34",
   "metadata": {
    "deletable": false,
    "editable": false,
    "id": "3d596c34"
   },
   "source": [
    "### Шаг 3. Исследуйте данные и ответьте на вопросы"
   ]
  },
  {
   "cell_type": "markdown",
   "id": "648db036",
   "metadata": {
    "deletable": false,
    "editable": false,
    "id": "648db036"
   },
   "source": [
    "#### 3.1 Есть ли зависимость между количеством детей и возвратом кредита в срок?"
   ]
  },
  {
   "cell_type": "code",
   "execution_count": 22,
   "id": "be226747",
   "metadata": {
    "deletable": false,
    "id": "7fcff25e"
   },
   "outputs": [
    {
     "name": "stdout",
     "output_type": "stream",
     "text": [
      "children\n",
      "0    1063\n",
      "1     444\n",
      "2     194\n",
      "3      27\n",
      "4       4\n",
      "5       0\n",
      "Name: debt, dtype: int64\n"
     ]
    }
   ],
   "source": [
    "# таблица с количеством людей, имевших задолженности, сгруппированная по количеству детей в семье\n",
    "print(data.groupby('children')['debt'].sum()) "
   ]
  },
  {
   "cell_type": "markdown",
   "id": "0c852bf2",
   "metadata": {},
   "source": [
    "Отрегистрировали убывание, значит можно предположить такую зависимость: При возрастании количества детей убывает количество заёмщиков, когда-либо имевших задолженность по возврату кредита"
   ]
  },
  {
   "cell_type": "markdown",
   "id": "24d59eeb",
   "metadata": {},
   "source": [
    "Однако заёмщиков с 3 детьми в семье в целом может быть меньше, чем заёмщиков с 1 ребенком в семье, а значит и заёмщиков с задолженностями будет меньше и предположение будет неверным "
   ]
  },
  {
   "cell_type": "code",
   "execution_count": 23,
   "id": "a6cff7fc",
   "metadata": {},
   "outputs": [
    {
     "name": "stdout",
     "output_type": "stream",
     "text": [
      "children\n",
      "0    14091\n",
      "1     4808\n",
      "2     2052\n",
      "3      330\n",
      "4       41\n",
      "5        9\n",
      "Name: debt, dtype: int64\n"
     ]
    }
   ],
   "source": [
    "print(data.groupby('children')['debt'].count())"
   ]
  },
  {
   "cell_type": "markdown",
   "id": "d875e0ae",
   "metadata": {},
   "source": [
    "Заёмщиков с 5 детьми всего 9 человек и среди них нет должников. По сравнению с 14091 заемщиков без детей эта цифра значительно меньше, поэтому данную группу рассматривать нет смысла"
   ]
  },
  {
   "cell_type": "markdown",
   "id": "b00f1105",
   "metadata": {},
   "source": [
    "Заёмщиков с 4 детьми значительно меньше, чем заёмщиков с 1 ребенком, значит нужно проанализировать зависимость другим способом. Попробуем сделать это с помощью долей. Например, рассмотрим отношение должников с 1 ребенком к общему количеству заёмщиков с 1 ребенком и так далее"
   ]
  },
  {
   "cell_type": "code",
   "execution_count": 24,
   "id": "6d4395af",
   "metadata": {},
   "outputs": [
    {
     "name": "stdout",
     "output_type": "stream",
     "text": [
      "children\n",
      "0    0.075438\n",
      "1    0.092346\n",
      "2    0.094542\n",
      "3    0.081818\n",
      "4    0.097561\n",
      "5    0.000000\n",
      "Name: debt, dtype: float64\n"
     ]
    }
   ],
   "source": [
    "print(data.groupby('children')['debt'].sum() / data.groupby('children')['debt'].count())\n",
    "\n",
    "#print(data.groupby('children')['debt'].mean()) или так тоже можно и удобнее, просто не сразу догадался"
   ]
  },
  {
   "cell_type": "markdown",
   "id": "a9d34958",
   "metadata": {},
   "source": [
    "Процент задолженностей по возврату кредита в каждой группе по количеству детей примерно одинаковый (колеблется от 7 до 9%)."
   ]
  },
  {
   "attachments": {
    "image.png": {
     "image/png": "[encoded data removed]"
    }
   },
   "cell_type": "markdown",
   "id": "003d5ecc",
   "metadata": {},
   "source": [
    "<font color='DarkBlue'><b>Комментарий ревьюера</b></font><br>\n",
    "<font color='DarkMagenta'>👉 Лучше строить сводную таблицу со следующими колонками: 'Всего кредитополучателей', 'Всего должников', 'Доля должников'. В этом случае таблица строится со следующими параметрами: `aggfunc=['count', 'sum', 'mean']`. Примерно вот так:</font>\n",
    "![image.png](attachment:image.png)"
   ]
  },
  {
   "cell_type": "markdown",
   "id": "2890851f",
   "metadata": {},
   "source": [
    "<font color='Blue'><b>Исправленная таблица с представленными результатами</b></font>"
   ]
  },
  {
   "cell_type": "code",
   "execution_count": 25,
   "id": "b7570ff4",
   "metadata": {},
   "outputs": [
    {
     "data": {
      "text/html": [
       "<div>\n",
       "<style scoped>\n",
       "    .dataframe tbody tr th:only-of-type {\n",
       "        vertical-align: middle;\n",
       "    }\n",
       "\n",
       "    .dataframe tbody tr th {\n",
       "        vertical-align: top;\n",
       "    }\n",
       "\n",
       "    .dataframe thead th {\n",
       "        text-align: right;\n",
       "    }\n",
       "</style>\n",
       "<table border=\"1\" class=\"dataframe\">\n",
       "  <thead>\n",
       "    <tr style=\"text-align: right;\">\n",
       "      <th></th>\n",
       "      <th>Всего кредитополучателей</th>\n",
       "      <th>Всего должников</th>\n",
       "      <th>Доля должников</th>\n",
       "      <th>Процент разницы</th>\n",
       "    </tr>\n",
       "    <tr>\n",
       "      <th>children</th>\n",
       "      <th></th>\n",
       "      <th></th>\n",
       "      <th></th>\n",
       "      <th></th>\n",
       "    </tr>\n",
       "  </thead>\n",
       "  <tbody>\n",
       "    <tr>\n",
       "      <th>0</th>\n",
       "      <td>14091</td>\n",
       "      <td>1063</td>\n",
       "      <td>0.075438</td>\n",
       "      <td>22.675821</td>\n",
       "    </tr>\n",
       "    <tr>\n",
       "      <th>1</th>\n",
       "      <td>4808</td>\n",
       "      <td>444</td>\n",
       "      <td>0.092346</td>\n",
       "      <td>5.345258</td>\n",
       "    </tr>\n",
       "    <tr>\n",
       "      <th>2</th>\n",
       "      <td>2052</td>\n",
       "      <td>194</td>\n",
       "      <td>0.094542</td>\n",
       "      <td>3.094542</td>\n",
       "    </tr>\n",
       "    <tr>\n",
       "      <th>3</th>\n",
       "      <td>330</td>\n",
       "      <td>27</td>\n",
       "      <td>0.081818</td>\n",
       "      <td>16.136364</td>\n",
       "    </tr>\n",
       "    <tr>\n",
       "      <th>4</th>\n",
       "      <td>41</td>\n",
       "      <td>4</td>\n",
       "      <td>0.097561</td>\n",
       "      <td>0.000000</td>\n",
       "    </tr>\n",
       "    <tr>\n",
       "      <th>5</th>\n",
       "      <td>9</td>\n",
       "      <td>0</td>\n",
       "      <td>0.000000</td>\n",
       "      <td>100.000000</td>\n",
       "    </tr>\n",
       "  </tbody>\n",
       "</table>\n",
       "</div>"
      ],
      "text/plain": [
       "          Всего кредитополучателей  Всего должников  Доля должников  \\\n",
       "children                                                              \n",
       "0                            14091             1063        0.075438   \n",
       "1                             4808              444        0.092346   \n",
       "2                             2052              194        0.094542   \n",
       "3                              330               27        0.081818   \n",
       "4                               41                4        0.097561   \n",
       "5                                9                0        0.000000   \n",
       "\n",
       "          Процент разницы  \n",
       "children                   \n",
       "0               22.675821  \n",
       "1                5.345258  \n",
       "2                3.094542  \n",
       "3               16.136364  \n",
       "4                0.000000  \n",
       "5              100.000000  "
      ]
     },
     "metadata": {},
     "output_type": "display_data"
    }
   ],
   "source": [
    "res = data.pivot_table(index=[\"children\"], values=[\"debt\"], aggfunc=['count', 'sum', 'mean'])\n",
    "res.columns=['Всего кредитополучателей', 'Всего должников', 'Доля должников']\n",
    "res['Процент разницы'] = (1 - res['Доля должников'] / res['Доля должников'][4])*100\n",
    "display(res)"
   ]
  },
  {
   "cell_type": "markdown",
   "id": "f07c5d2b",
   "metadata": {},
   "source": [
    "<font color='DarkBlue'><b>Комментарий ревьюера 2</b></font><br>\n",
    "<font color='DarkMagenta'>👉 Можно сделать вот так, через функцию.</font>"
   ]
  },
  {
   "cell_type": "code",
   "execution_count": 42,
   "id": "8345274f",
   "metadata": {},
   "outputs": [
    {
     "data": {
      "text/html": [
       "<style  type=\"text/css\" >\n",
       "#T_a2c39_row0_col0,#T_a2c39_row0_col1,#T_a2c39_row4_col2{\n",
       "            background-color:  #08306b;\n",
       "            color:  #f1f1f1;\n",
       "        }#T_a2c39_row0_col2{\n",
       "            background-color:  #1c6bb0;\n",
       "            color:  #f1f1f1;\n",
       "        }#T_a2c39_row1_col0{\n",
       "            background-color:  #a9cfe5;\n",
       "            color:  #000000;\n",
       "        }#T_a2c39_row1_col1{\n",
       "            background-color:  #8dc1dd;\n",
       "            color:  #000000;\n",
       "        }#T_a2c39_row1_col2{\n",
       "            background-color:  #083d7f;\n",
       "            color:  #f1f1f1;\n",
       "        }#T_a2c39_row2_col0{\n",
       "            background-color:  #dae8f6;\n",
       "            color:  #000000;\n",
       "        }#T_a2c39_row2_col1{\n",
       "            background-color:  #d3e4f3;\n",
       "            color:  #000000;\n",
       "        }#T_a2c39_row2_col2{\n",
       "            background-color:  #083776;\n",
       "            color:  #f1f1f1;\n",
       "        }#T_a2c39_row3_col0{\n",
       "            background-color:  #f3f8fe;\n",
       "            color:  #000000;\n",
       "        }#T_a2c39_row3_col1{\n",
       "            background-color:  #f2f8fd;\n",
       "            color:  #000000;\n",
       "        }#T_a2c39_row3_col2{\n",
       "            background-color:  #0f5aa3;\n",
       "            color:  #f1f1f1;\n",
       "        }#T_a2c39_row4_col0,#T_a2c39_row4_col1,#T_a2c39_row5_col0,#T_a2c39_row5_col1,#T_a2c39_row5_col2{\n",
       "            background-color:  #f7fbff;\n",
       "            color:  #000000;\n",
       "        }</style><table id=\"T_a2c39_\" ><thead>    <tr>        <th class=\"blank level0\" ></th>        <th class=\"col_heading level0 col0\" >Всего кредитополучателей</th>        <th class=\"col_heading level0 col1\" >Всего должников</th>        <th class=\"col_heading level0 col2\" >Доля должников</th>    </tr>    <tr>        <th class=\"index_name level0\" >children</th>        <th class=\"blank\" ></th>        <th class=\"blank\" ></th>        <th class=\"blank\" ></th>    </tr></thead><tbody>\n",
       "                <tr>\n",
       "                        <th id=\"T_a2c39_level0_row0\" class=\"row_heading level0 row0\" >0</th>\n",
       "                        <td id=\"T_a2c39_row0_col0\" class=\"data row0 col0\" >14091.000</td>\n",
       "                        <td id=\"T_a2c39_row0_col1\" class=\"data row0 col1\" >1063.000</td>\n",
       "                        <td id=\"T_a2c39_row0_col2\" class=\"data row0 col2\" >0.075</td>\n",
       "            </tr>\n",
       "            <tr>\n",
       "                        <th id=\"T_a2c39_level0_row1\" class=\"row_heading level0 row1\" >1</th>\n",
       "                        <td id=\"T_a2c39_row1_col0\" class=\"data row1 col0\" >4808.000</td>\n",
       "                        <td id=\"T_a2c39_row1_col1\" class=\"data row1 col1\" >444.000</td>\n",
       "                        <td id=\"T_a2c39_row1_col2\" class=\"data row1 col2\" >0.092</td>\n",
       "            </tr>\n",
       "            <tr>\n",
       "                        <th id=\"T_a2c39_level0_row2\" class=\"row_heading level0 row2\" >2</th>\n",
       "                        <td id=\"T_a2c39_row2_col0\" class=\"data row2 col0\" >2052.000</td>\n",
       "                        <td id=\"T_a2c39_row2_col1\" class=\"data row2 col1\" >194.000</td>\n",
       "                        <td id=\"T_a2c39_row2_col2\" class=\"data row2 col2\" >0.095</td>\n",
       "            </tr>\n",
       "            <tr>\n",
       "                        <th id=\"T_a2c39_level0_row3\" class=\"row_heading level0 row3\" >3</th>\n",
       "                        <td id=\"T_a2c39_row3_col0\" class=\"data row3 col0\" >330.000</td>\n",
       "                        <td id=\"T_a2c39_row3_col1\" class=\"data row3 col1\" >27.000</td>\n",
       "                        <td id=\"T_a2c39_row3_col2\" class=\"data row3 col2\" >0.082</td>\n",
       "            </tr>\n",
       "            <tr>\n",
       "                        <th id=\"T_a2c39_level0_row4\" class=\"row_heading level0 row4\" >4</th>\n",
       "                        <td id=\"T_a2c39_row4_col0\" class=\"data row4 col0\" >41.000</td>\n",
       "                        <td id=\"T_a2c39_row4_col1\" class=\"data row4 col1\" >4.000</td>\n",
       "                        <td id=\"T_a2c39_row4_col2\" class=\"data row4 col2\" >0.098</td>\n",
       "            </tr>\n",
       "            <tr>\n",
       "                        <th id=\"T_a2c39_level0_row5\" class=\"row_heading level0 row5\" >5</th>\n",
       "                        <td id=\"T_a2c39_row5_col0\" class=\"data row5 col0\" >9.000</td>\n",
       "                        <td id=\"T_a2c39_row5_col1\" class=\"data row5 col1\" >0.000</td>\n",
       "                        <td id=\"T_a2c39_row5_col2\" class=\"data row5 col2\" >0.000</td>\n",
       "            </tr>\n",
       "    </tbody></table>"
      ],
      "text/plain": [
       "<pandas.io.formats.style.Styler at 0x7f8ef8d3feb0>"
      ]
     },
     "metadata": {},
     "output_type": "display_data"
    }
   ],
   "source": [
    "# Комментарий ревьюера 2\n",
    "# Создаем копию датасета, что бы не работать с исходным\n",
    "temp = data.copy()\n",
    "# Напишем функцию, так как все задачи аналогичны\n",
    "def que(category):\n",
    "    data_temp = temp.pivot_table(index=category, values='debt', aggfunc=['count', 'sum', 'mean'])\n",
    "    data_temp.columns = ['Всего кредитополучателей', 'Всего должников', 'Доля должников']\n",
    "    # Оформим таблицу цветным градиентом, но можно ее вывести и просто display(data_temp)\n",
    "    display(data_temp.style.format(\"{:.3f}\").background_gradient(cmap='Blues', axis=0))\n",
    "    \n",
    "que('children')"
   ]
  },
  {
   "cell_type": "markdown",
   "id": "c521923a",
   "metadata": {
    "deletable": false,
    "id": "2eb9088e"
   },
   "source": [
    "**Вывод:** Заемщики, не имеющие детей, немного реже имеют задолженность по возврату кредита. Однако разница в 2% выглядет некритичной. Делаем вывод - зависимость между количеством детей и возвратом кредита в срок не прослеживается"
   ]
  },
  {
   "cell_type": "markdown",
   "id": "d8cb758c",
   "metadata": {},
   "source": [
    "<font color='DarkBlue'><b>Комментарий ревьюера</b></font><br>\n",
    "<font color='Red'>🛠 Не корректный вывод. При сравнении долей (а здесь не равные выборки), необходимо учитывать не разницу в долях, а процент, когда максимальная доля принимается за 100%. В данном случае разница между крайними значениями долей должников (не учитывая категорию с 5-тью детьми) составляет более 22%.</font>"
   ]
  },
  {
   "cell_type": "markdown",
   "id": "8539fbfd",
   "metadata": {},
   "source": [
    "<font color='Blue'><b>Вывод</b></font>: Для более наглядного сравнения в последнем столбце таблицы высчитан процент разницы, когда максимальная доля (заемщики с 4 детьми) принимается за 100%. В результате можно заметить разницу в более чем 22%, что подтверждает наличие зависимости: кредитополучатели без детей чаще возвращают кредиты в срок. Возможно, кредитополучателям с 4 детьми сложнее отдавать кредит ввиду повышенных расходов на семью."
   ]
  },
  {
   "cell_type": "markdown",
   "id": "a913a481",
   "metadata": {},
   "source": [
    "<font color='DarkBlue'><b>Комментарий ревьюера 2</b></font><br>\n",
    "<font color='DarkGreen'>👌 Правильный вывод, действительно семьи без детей не несут дополнительных расходов и своевременно обслуживают свой кредит. У клиентов с детьми более высокая расходная часть семейного бюджета, поэтому и возникают сложности со своевременной выплатой по кредитным обязательствам.</font><br>\n",
    "<font color='DarkMagenta'>👉 Следовало обратить внимание на несбалансированность выборок для каждой категории, при малой выборке нельзя делать обоснованные выводы.</font>"
   ]
  },
  {
   "cell_type": "markdown",
   "id": "74c9b3a7",
   "metadata": {
    "deletable": false,
    "editable": false,
    "id": "74c9b3a7"
   },
   "source": [
    "#### 3.2 Есть ли зависимость между семейным положением и возвратом кредита в срок?"
   ]
  },
  {
   "cell_type": "markdown",
   "id": "de91c0a8",
   "metadata": {},
   "source": [
    "Таблица с количеством заемщиков, сгруппированная по семейному положению:"
   ]
  },
  {
   "cell_type": "code",
   "execution_count": 26,
   "id": "8098ab3b",
   "metadata": {
    "deletable": false,
    "id": "8098ab3b"
   },
   "outputs": [
    {
     "name": "stdout",
     "output_type": "stream",
     "text": [
      "family_status\n",
      "вдовец / вдова             951\n",
      "в разводе                 1189\n",
      "Не женат / не замужем     2796\n",
      "гражданский брак          4134\n",
      "женат / замужем          12261\n",
      "Name: debt, dtype: int64\n"
     ]
    }
   ],
   "source": [
    "print(data.groupby('family_status')['debt'].count().sort_values(ascending=True))"
   ]
  },
  {
   "cell_type": "markdown",
   "id": "db754bf1",
   "metadata": {},
   "source": [
    "Таблица с количеством заемщиков, имевших задолженности, сгруппированная по семейному положению:"
   ]
  },
  {
   "cell_type": "code",
   "execution_count": 27,
   "id": "18b98f77",
   "metadata": {},
   "outputs": [
    {
     "name": "stdout",
     "output_type": "stream",
     "text": [
      "family_status\n",
      "вдовец / вдова            63\n",
      "в разводе                 84\n",
      "Не женат / не замужем    273\n",
      "гражданский брак         385\n",
      "женат / замужем          927\n",
      "Name: debt, dtype: int64\n"
     ]
    }
   ],
   "source": [
    "print(data.groupby('family_status')['debt'].sum().sort_values(ascending=True)) "
   ]
  },
  {
   "cell_type": "markdown",
   "id": "9ffd5b61",
   "metadata": {},
   "source": [
    "Ищем отношение количества заемщиков, имевших задолженности к общему количеству заемщиков для каждого семейного статуса."
   ]
  },
  {
   "cell_type": "code",
   "execution_count": 28,
   "id": "6178ae42",
   "metadata": {},
   "outputs": [
    {
     "name": "stdout",
     "output_type": "stream",
     "text": [
      "family_status\n",
      "Не женат / не замужем    0.097639\n",
      "в разводе                0.070648\n",
      "вдовец / вдова           0.066246\n",
      "гражданский брак         0.093130\n",
      "женат / замужем          0.075606\n",
      "Name: debt, dtype: float64\n"
     ]
    }
   ],
   "source": [
    "print(data.groupby('family_status')['debt'].sum() / data.groupby('family_status')['debt'].count()) "
   ]
  },
  {
   "cell_type": "markdown",
   "id": "72c9324b",
   "metadata": {},
   "source": [
    "<font color='Blue'><b>Исправленная таблица с представленными результатами</b></font>"
   ]
  },
  {
   "cell_type": "code",
   "execution_count": 29,
   "id": "a58c012d",
   "metadata": {},
   "outputs": [
    {
     "data": {
      "text/html": [
       "<div>\n",
       "<style scoped>\n",
       "    .dataframe tbody tr th:only-of-type {\n",
       "        vertical-align: middle;\n",
       "    }\n",
       "\n",
       "    .dataframe tbody tr th {\n",
       "        vertical-align: top;\n",
       "    }\n",
       "\n",
       "    .dataframe thead th {\n",
       "        text-align: right;\n",
       "    }\n",
       "</style>\n",
       "<table border=\"1\" class=\"dataframe\">\n",
       "  <thead>\n",
       "    <tr style=\"text-align: right;\">\n",
       "      <th></th>\n",
       "      <th>Всего кредитополучателей</th>\n",
       "      <th>Всего должников</th>\n",
       "      <th>Доля должников</th>\n",
       "      <th>Процент разницы</th>\n",
       "    </tr>\n",
       "    <tr>\n",
       "      <th>family_status</th>\n",
       "      <th></th>\n",
       "      <th></th>\n",
       "      <th></th>\n",
       "      <th></th>\n",
       "    </tr>\n",
       "  </thead>\n",
       "  <tbody>\n",
       "    <tr>\n",
       "      <th>Не женат / не замужем</th>\n",
       "      <td>2796</td>\n",
       "      <td>273</td>\n",
       "      <td>0.097639</td>\n",
       "      <td>0.000000</td>\n",
       "    </tr>\n",
       "    <tr>\n",
       "      <th>в разводе</th>\n",
       "      <td>1189</td>\n",
       "      <td>84</td>\n",
       "      <td>0.070648</td>\n",
       "      <td>27.644433</td>\n",
       "    </tr>\n",
       "    <tr>\n",
       "      <th>вдовец / вдова</th>\n",
       "      <td>951</td>\n",
       "      <td>63</td>\n",
       "      <td>0.066246</td>\n",
       "      <td>32.152390</td>\n",
       "    </tr>\n",
       "    <tr>\n",
       "      <th>гражданский брак</th>\n",
       "      <td>4134</td>\n",
       "      <td>385</td>\n",
       "      <td>0.093130</td>\n",
       "      <td>4.618362</td>\n",
       "    </tr>\n",
       "    <tr>\n",
       "      <th>женат / замужем</th>\n",
       "      <td>12261</td>\n",
       "      <td>927</td>\n",
       "      <td>0.075606</td>\n",
       "      <td>22.566594</td>\n",
       "    </tr>\n",
       "  </tbody>\n",
       "</table>\n",
       "</div>"
      ],
      "text/plain": [
       "                       Всего кредитополучателей  Всего должников  \\\n",
       "family_status                                                      \n",
       "Не женат / не замужем                      2796              273   \n",
       "в разводе                                  1189               84   \n",
       "вдовец / вдова                              951               63   \n",
       "гражданский брак                           4134              385   \n",
       "женат / замужем                           12261              927   \n",
       "\n",
       "                       Доля должников  Процент разницы  \n",
       "family_status                                           \n",
       "Не женат / не замужем        0.097639         0.000000  \n",
       "в разводе                    0.070648        27.644433  \n",
       "вдовец / вдова               0.066246        32.152390  \n",
       "гражданский брак             0.093130         4.618362  \n",
       "женат / замужем              0.075606        22.566594  "
      ]
     },
     "metadata": {},
     "output_type": "display_data"
    }
   ],
   "source": [
    "res = data.pivot_table(index=[\"family_status\"], values=[\"debt\"], aggfunc=['count', 'sum', 'mean'])\n",
    "res.columns=['Всего кредитополучателей', 'Всего должников', 'Доля должников']\n",
    "res['Процент разницы'] = (1 - res['Доля должников'] / res['Доля должников'][0])*100\n",
    "display(res)"
   ]
  },
  {
   "cell_type": "markdown",
   "id": "c389ca63",
   "metadata": {
    "deletable": false,
    "id": "c389ca63"
   },
   "source": [
    "**Вывод:** Заемщики, состоящие в гражданском браке, и неженатые заемщики немного чаще остальных имеют задолженность"
   ]
  },
  {
   "cell_type": "markdown",
   "id": "6a2a0ba4",
   "metadata": {},
   "source": [
    "<font color='DarkBlue'><b>Комментарий ревьюера</b></font><br>\n",
    "<font color='DarkGreen'>👌 Действительно, оформленные семейные отношения или их прошлый опыт налагают определенную ответственность и приучают к финансовой дисциплине.</font>"
   ]
  },
  {
   "cell_type": "markdown",
   "id": "9529de68",
   "metadata": {
    "deletable": false,
    "editable": false,
    "id": "9529de68"
   },
   "source": [
    "#### 3.3 Есть ли зависимость между уровнем дохода и возвратом кредита в срок?"
   ]
  },
  {
   "cell_type": "markdown",
   "id": "36b7559e",
   "metadata": {
    "deletable": false,
    "id": "8787f44a"
   },
   "source": [
    "Таблица с количеством заемщиков, сгруппированная по уровню дохода:"
   ]
  },
  {
   "cell_type": "code",
   "execution_count": 30,
   "id": "d8167011",
   "metadata": {},
   "outputs": [
    {
     "name": "stdout",
     "output_type": "stream",
     "text": [
      "total_income_category\n",
      "A       25\n",
      "B     5014\n",
      "C    15921\n",
      "D      349\n",
      "E       22\n",
      "Name: debt, dtype: int64\n"
     ]
    }
   ],
   "source": [
    "print(data.groupby('total_income_category')['debt'].count())"
   ]
  },
  {
   "cell_type": "markdown",
   "id": "821f54fa",
   "metadata": {},
   "source": [
    "В категориях A и E меньше сотни заемщиков, этого количества недостаточно для чистоты статистики, поэтому данные группы рассматривать не стоит"
   ]
  },
  {
   "cell_type": "markdown",
   "id": "28293f08",
   "metadata": {},
   "source": [
    "Таблица с количеством заемщиков, имевших задолженности, сгруппированная по уровню дохода:"
   ]
  },
  {
   "cell_type": "code",
   "execution_count": 31,
   "id": "e0ea3278",
   "metadata": {},
   "outputs": [
    {
     "name": "stdout",
     "output_type": "stream",
     "text": [
      "total_income_category\n",
      "A       2\n",
      "B     354\n",
      "C    1353\n",
      "D      21\n",
      "E       2\n",
      "Name: debt, dtype: int64\n"
     ]
    }
   ],
   "source": [
    "print(data.groupby('total_income_category')['debt'].sum())"
   ]
  },
  {
   "cell_type": "markdown",
   "id": "fa357b4d",
   "metadata": {},
   "source": [
    "Ищем отношение количества заемщиков, имевших задолженности к общему количеству заемщиков для каждого уровня дохода."
   ]
  },
  {
   "cell_type": "code",
   "execution_count": 32,
   "id": "a44f497e",
   "metadata": {},
   "outputs": [
    {
     "name": "stdout",
     "output_type": "stream",
     "text": [
      "total_income_category\n",
      "A    0.080000\n",
      "B    0.070602\n",
      "C    0.084982\n",
      "D    0.060172\n",
      "E    0.090909\n",
      "Name: debt, dtype: float64\n"
     ]
    }
   ],
   "source": [
    "print(data.groupby('total_income_category')['debt'].sum() / data.groupby('total_income_category')['debt'].count())"
   ]
  },
  {
   "cell_type": "markdown",
   "id": "6dd14b57",
   "metadata": {
    "deletable": false,
    "id": "6dd14b57"
   },
   "source": [
    "**Вывод:** Менее обеспеченные заемщики, относящиеся к группе С, чаще имеют задолженность по возврату кредита, чем заемщики группы B. Однако четкой зависимости не прослеживается"
   ]
  },
  {
   "cell_type": "markdown",
   "id": "fdeb9f4f",
   "metadata": {},
   "source": [
    "<font color='DarkBlue'><b>Комментарий ревьюера</b></font><br>\n",
    "<font color='DarkMagenta'>👉 Обращаю внимание, что представленные выборки несбалансированы и какой-то вывод можно делать только по двум категориям с достаточным размером выборок.</font>\n",
    "<br><font color='DarkMagenta'>👉 В задачах, где требуется анализировать несбалансированные выборки можно, делать дополнительный анализ, разбив данные на равные выборки методом `.qcut`. Подробнее можно прочитать тут: <br>https://dfedorov.spb.ru/pandas/Разделение%20данных%20в%20Pandas%20с%20помощью%20qcut%20и%20cut.html.</font>"
   ]
  },
  {
   "cell_type": "markdown",
   "id": "c4bc0698",
   "metadata": {},
   "source": [
    "<font color='Blue'><b>Дополнительный анализ</b></font>"
   ]
  },
  {
   "cell_type": "markdown",
   "id": "6c05f974",
   "metadata": {},
   "source": [
    "В данной задаче требуется анализировать несбалансированную выборку <br>\n",
    "Разобьём данные на равные выборки методом `.qcut`:"
   ]
  },
  {
   "cell_type": "code",
   "execution_count": 33,
   "id": "4fe1a056",
   "metadata": {
    "scrolled": true
   },
   "outputs": [
    {
     "name": "stdout",
     "output_type": "stream",
     "text": [
      "E    4267\n",
      "D    4266\n",
      "C    4266\n",
      "B    4266\n",
      "A    4266\n",
      "Name: total_income_new_category, dtype: int64\n"
     ]
    }
   ],
   "source": [
    "data['total_income_new_category'] = pd.qcut(data['total_income'], q=5, labels=['E', 'D', 'C', 'B', 'A'])\n",
    "print(data['total_income_new_category'].value_counts())"
   ]
  },
  {
   "cell_type": "markdown",
   "id": "026c50f5",
   "metadata": {},
   "source": [
    "Посмотрим на границы квантилей с помощью функции `.quantile`:"
   ]
  },
  {
   "cell_type": "code",
   "execution_count": 34,
   "id": "5315cf23",
   "metadata": {},
   "outputs": [
    {
     "name": "stdout",
     "output_type": "stream",
     "text": [
      "А: 2265604.0\n",
      "B: 214604.0\n",
      "C: 161380.0\n",
      "D: 132113.0\n",
      "E: 98514.0\n"
     ]
    }
   ],
   "source": [
    "recency_quantiles = data['total_income'].quantile([1/5, 2/5, 3/5, 4/5, 5/5]) \n",
    "\n",
    "categories = list(recency_quantiles)\n",
    "print(\"А:\", categories[4])\n",
    "print(\"B:\", categories[3])\n",
    "print(\"C:\", categories[2])\n",
    "print(\"D:\", categories[1])\n",
    "print(\"E:\", categories[0])"
   ]
  },
  {
   "cell_type": "code",
   "execution_count": 35,
   "id": "577914b5",
   "metadata": {
    "scrolled": false
   },
   "outputs": [
    {
     "data": {
      "text/html": [
       "<div>\n",
       "<style scoped>\n",
       "    .dataframe tbody tr th:only-of-type {\n",
       "        vertical-align: middle;\n",
       "    }\n",
       "\n",
       "    .dataframe tbody tr th {\n",
       "        vertical-align: top;\n",
       "    }\n",
       "\n",
       "    .dataframe thead th {\n",
       "        text-align: right;\n",
       "    }\n",
       "</style>\n",
       "<table border=\"1\" class=\"dataframe\">\n",
       "  <thead>\n",
       "    <tr style=\"text-align: right;\">\n",
       "      <th></th>\n",
       "      <th>Всего кредитополучателей</th>\n",
       "      <th>Всего должников</th>\n",
       "      <th>Доля должников</th>\n",
       "      <th>Процент разницы</th>\n",
       "    </tr>\n",
       "    <tr>\n",
       "      <th>total_income_new_category</th>\n",
       "      <th></th>\n",
       "      <th></th>\n",
       "      <th></th>\n",
       "      <th></th>\n",
       "    </tr>\n",
       "  </thead>\n",
       "  <tbody>\n",
       "    <tr>\n",
       "      <th>E</th>\n",
       "      <td>4267</td>\n",
       "      <td>344</td>\n",
       "      <td>0.080619</td>\n",
       "      <td>7.796413</td>\n",
       "    </tr>\n",
       "    <tr>\n",
       "      <th>D</th>\n",
       "      <td>4266</td>\n",
       "      <td>358</td>\n",
       "      <td>0.083919</td>\n",
       "      <td>4.021448</td>\n",
       "    </tr>\n",
       "    <tr>\n",
       "      <th>C</th>\n",
       "      <td>4266</td>\n",
       "      <td>373</td>\n",
       "      <td>0.087436</td>\n",
       "      <td>0.000000</td>\n",
       "    </tr>\n",
       "    <tr>\n",
       "      <th>B</th>\n",
       "      <td>4266</td>\n",
       "      <td>358</td>\n",
       "      <td>0.083919</td>\n",
       "      <td>4.021448</td>\n",
       "    </tr>\n",
       "    <tr>\n",
       "      <th>A</th>\n",
       "      <td>4266</td>\n",
       "      <td>299</td>\n",
       "      <td>0.070089</td>\n",
       "      <td>19.839142</td>\n",
       "    </tr>\n",
       "  </tbody>\n",
       "</table>\n",
       "</div>"
      ],
      "text/plain": [
       "                           Всего кредитополучателей  Всего должников  \\\n",
       "total_income_new_category                                              \n",
       "E                                              4267              344   \n",
       "D                                              4266              358   \n",
       "C                                              4266              373   \n",
       "B                                              4266              358   \n",
       "A                                              4266              299   \n",
       "\n",
       "                           Доля должников  Процент разницы  \n",
       "total_income_new_category                                   \n",
       "E                                0.080619         7.796413  \n",
       "D                                0.083919         4.021448  \n",
       "C                                0.087436         0.000000  \n",
       "B                                0.083919         4.021448  \n",
       "A                                0.070089        19.839142  "
      ]
     },
     "metadata": {},
     "output_type": "display_data"
    }
   ],
   "source": [
    "res = data.pivot_table(index=['total_income_new_category'], values=[\"debt\"], aggfunc=['count', 'sum', 'mean'])\n",
    "res.columns=['Всего кредитополучателей', 'Всего должников', 'Доля должников']\n",
    "res['Процент разницы'] = (1 - res['Доля должников'] / res['Доля должников'][2])*100\n",
    "display(res)"
   ]
  },
  {
   "cell_type": "markdown",
   "id": "54b09c74",
   "metadata": {},
   "source": [
    "**Итог** - Более ответственные заемщики имеют доход либо менее 98514 рублей, либо более 214604 рублей"
   ]
  },
  {
   "cell_type": "markdown",
   "id": "027410a3",
   "metadata": {},
   "source": [
    "<font color='DarkBlue'><b>Комментарий ревьюера 2</b></font><br>\n",
    "<font color='DarkMagenta'>👉 Можно сделать цикл с перебором количества категорий.</font>"
   ]
  },
  {
   "cell_type": "code",
   "execution_count": 43,
   "id": "46b0874c",
   "metadata": {},
   "outputs": [
    {
     "data": {
      "text/html": [
       "<style  type=\"text/css\" >\n",
       "#T_ab64a_row0_col0{\n",
       "            background-color:  #69add5;\n",
       "            color:  #000000;\n",
       "        }#T_ab64a_row0_col1{\n",
       "            background-color:  #5da5d1;\n",
       "            color:  #000000;\n",
       "        }#T_ab64a_row0_col2{\n",
       "            background-color:  #58a1cf;\n",
       "            color:  #000000;\n",
       "        }#T_ab64a_row1_col0,#T_ab64a_row1_col1,#T_ab64a_row1_col2{\n",
       "            background-color:  #08306b;\n",
       "            color:  #f1f1f1;\n",
       "        }#T_ab64a_row2_col0,#T_ab64a_row2_col1,#T_ab64a_row2_col2{\n",
       "            background-color:  #f7fbff;\n",
       "            color:  #000000;\n",
       "        }</style><table id=\"T_ab64a_\" ><thead>    <tr>        <th class=\"blank level0\" ></th>        <th class=\"col_heading level0 col0\" >Всего кредитополучателей</th>        <th class=\"col_heading level0 col1\" >Всего должников</th>        <th class=\"col_heading level0 col2\" >Доля должников</th>    </tr>    <tr>        <th class=\"index_name level0\" >new_category</th>        <th class=\"blank\" ></th>        <th class=\"blank\" ></th>        <th class=\"blank\" ></th>    </tr></thead><tbody>\n",
       "                <tr>\n",
       "                        <th id=\"T_ab64a_level0_row0\" class=\"row_heading level0 row0\" >(20666.0, 119218.0]</th>\n",
       "                        <td id=\"T_ab64a_row0_col0\" class=\"data row0 col0\" >7111.000</td>\n",
       "                        <td id=\"T_ab64a_row0_col1\" class=\"data row0 col1\" >580.000</td>\n",
       "                        <td id=\"T_ab64a_row0_col2\" class=\"data row0 col2\" >0.082</td>\n",
       "            </tr>\n",
       "            <tr>\n",
       "                        <th id=\"T_ab64a_level0_row1\" class=\"row_heading level0 row1\" >(119218.0, 172357.0]</th>\n",
       "                        <td id=\"T_ab64a_row1_col0\" class=\"data row1 col0\" >7238.000</td>\n",
       "                        <td id=\"T_ab64a_row1_col1\" class=\"data row1 col1\" >627.000</td>\n",
       "                        <td id=\"T_ab64a_row1_col2\" class=\"data row1 col2\" >0.087</td>\n",
       "            </tr>\n",
       "            <tr>\n",
       "                        <th id=\"T_ab64a_level0_row2\" class=\"row_heading level0 row2\" >(172357.0, 2265604.0]</th>\n",
       "                        <td id=\"T_ab64a_row2_col0\" class=\"data row2 col0\" >6982.000</td>\n",
       "                        <td id=\"T_ab64a_row2_col1\" class=\"data row2 col1\" >525.000</td>\n",
       "                        <td id=\"T_ab64a_row2_col2\" class=\"data row2 col2\" >0.075</td>\n",
       "            </tr>\n",
       "    </tbody></table>"
      ],
      "text/plain": [
       "<pandas.io.formats.style.Styler at 0x7f8f633f4580>"
      ]
     },
     "metadata": {},
     "output_type": "display_data"
    },
    {
     "data": {
      "text/html": [
       "<style  type=\"text/css\" >\n",
       "#T_7d779_row0_col0{\n",
       "            background-color:  #6aaed6;\n",
       "            color:  #000000;\n",
       "        }#T_7d779_row0_col1{\n",
       "            background-color:  #7ab6d9;\n",
       "            color:  #000000;\n",
       "        }#T_7d779_row0_col2{\n",
       "            background-color:  #65aad4;\n",
       "            color:  #000000;\n",
       "        }#T_7d779_row1_col0,#T_7d779_row1_col1,#T_7d779_row1_col2{\n",
       "            background-color:  #08306b;\n",
       "            color:  #f1f1f1;\n",
       "        }#T_7d779_row2_col0,#T_7d779_row3_col1,#T_7d779_row3_col2{\n",
       "            background-color:  #f7fbff;\n",
       "            color:  #000000;\n",
       "        }#T_7d779_row2_col1{\n",
       "            background-color:  #3f8fc5;\n",
       "            color:  #000000;\n",
       "        }#T_7d779_row2_col2{\n",
       "            background-color:  #125ea6;\n",
       "            color:  #f1f1f1;\n",
       "        }#T_7d779_row3_col0{\n",
       "            background-color:  #6dafd7;\n",
       "            color:  #000000;\n",
       "        }</style><table id=\"T_7d779_\" ><thead>    <tr>        <th class=\"blank level0\" ></th>        <th class=\"col_heading level0 col0\" >Всего кредитополучателей</th>        <th class=\"col_heading level0 col1\" >Всего должников</th>        <th class=\"col_heading level0 col2\" >Доля должников</th>    </tr>    <tr>        <th class=\"index_name level0\" >new_category</th>        <th class=\"blank\" ></th>        <th class=\"blank\" ></th>        <th class=\"blank\" ></th>    </tr></thead><tbody>\n",
       "                <tr>\n",
       "                        <th id=\"T_7d779_level0_row0\" class=\"row_heading level0 row0\" >(20666.0, 107507.0]</th>\n",
       "                        <td id=\"T_7d779_row0_col0\" class=\"data row0 col0\" >5333.000</td>\n",
       "                        <td id=\"T_7d779_row0_col1\" class=\"data row0 col1\" >427.000</td>\n",
       "                        <td id=\"T_7d779_row0_col2\" class=\"data row0 col2\" >0.080</td>\n",
       "            </tr>\n",
       "            <tr>\n",
       "                        <th id=\"T_7d779_level0_row1\" class=\"row_heading level0 row1\" >(107507.0, 142594.0]</th>\n",
       "                        <td id=\"T_7d779_row1_col0\" class=\"data row1 col0\" >5450.000</td>\n",
       "                        <td id=\"T_7d779_row1_col1\" class=\"data row1 col1\" >480.000</td>\n",
       "                        <td id=\"T_7d779_row1_col2\" class=\"data row1 col2\" >0.088</td>\n",
       "            </tr>\n",
       "            <tr>\n",
       "                        <th id=\"T_7d779_level0_row2\" class=\"row_heading level0 row2\" >(142594.0, 195842.0]</th>\n",
       "                        <td id=\"T_7d779_row2_col0\" class=\"data row2 col0\" >5216.000</td>\n",
       "                        <td id=\"T_7d779_row2_col1\" class=\"data row2 col1\" >444.000</td>\n",
       "                        <td id=\"T_7d779_row2_col2\" class=\"data row2 col2\" >0.085</td>\n",
       "            </tr>\n",
       "            <tr>\n",
       "                        <th id=\"T_7d779_level0_row3\" class=\"row_heading level0 row3\" >(195842.0, 2265604.0]</th>\n",
       "                        <td id=\"T_7d779_row3_col0\" class=\"data row3 col0\" >5332.000</td>\n",
       "                        <td id=\"T_7d779_row3_col1\" class=\"data row3 col1\" >381.000</td>\n",
       "                        <td id=\"T_7d779_row3_col2\" class=\"data row3 col2\" >0.071</td>\n",
       "            </tr>\n",
       "    </tbody></table>"
      ],
      "text/plain": [
       "<pandas.io.formats.style.Styler at 0x7f8f62697310>"
      ]
     },
     "metadata": {},
     "output_type": "display_data"
    },
    {
     "data": {
      "text/html": [
       "<style  type=\"text/css\" >\n",
       "#T_b2187_row0_col0,#T_b2187_row2_col1,#T_b2187_row2_col2{\n",
       "            background-color:  #08306b;\n",
       "            color:  #f1f1f1;\n",
       "        }#T_b2187_row0_col1,#T_b2187_row0_col2{\n",
       "            background-color:  #4896c8;\n",
       "            color:  #000000;\n",
       "        }#T_b2187_row1_col0,#T_b2187_row2_col0,#T_b2187_row3_col0,#T_b2187_row4_col0,#T_b2187_row4_col1,#T_b2187_row4_col2{\n",
       "            background-color:  #f7fbff;\n",
       "            color:  #000000;\n",
       "        }#T_b2187_row1_col1,#T_b2187_row1_col2,#T_b2187_row3_col1,#T_b2187_row3_col2{\n",
       "            background-color:  #1764ab;\n",
       "            color:  #f1f1f1;\n",
       "        }</style><table id=\"T_b2187_\" ><thead>    <tr>        <th class=\"blank level0\" ></th>        <th class=\"col_heading level0 col0\" >Всего кредитополучателей</th>        <th class=\"col_heading level0 col1\" >Всего должников</th>        <th class=\"col_heading level0 col2\" >Доля должников</th>    </tr>    <tr>        <th class=\"index_name level0\" >new_category</th>        <th class=\"blank\" ></th>        <th class=\"blank\" ></th>        <th class=\"blank\" ></th>    </tr></thead><tbody>\n",
       "                <tr>\n",
       "                        <th id=\"T_b2187_level0_row0\" class=\"row_heading level0 row0\" >(20666.0, 98514.0]</th>\n",
       "                        <td id=\"T_b2187_row0_col0\" class=\"data row0 col0\" >4267.000</td>\n",
       "                        <td id=\"T_b2187_row0_col1\" class=\"data row0 col1\" >344.000</td>\n",
       "                        <td id=\"T_b2187_row0_col2\" class=\"data row0 col2\" >0.081</td>\n",
       "            </tr>\n",
       "            <tr>\n",
       "                        <th id=\"T_b2187_level0_row1\" class=\"row_heading level0 row1\" >(98514.0, 132113.0]</th>\n",
       "                        <td id=\"T_b2187_row1_col0\" class=\"data row1 col0\" >4266.000</td>\n",
       "                        <td id=\"T_b2187_row1_col1\" class=\"data row1 col1\" >358.000</td>\n",
       "                        <td id=\"T_b2187_row1_col2\" class=\"data row1 col2\" >0.084</td>\n",
       "            </tr>\n",
       "            <tr>\n",
       "                        <th id=\"T_b2187_level0_row2\" class=\"row_heading level0 row2\" >(132113.0, 161380.0]</th>\n",
       "                        <td id=\"T_b2187_row2_col0\" class=\"data row2 col0\" >4266.000</td>\n",
       "                        <td id=\"T_b2187_row2_col1\" class=\"data row2 col1\" >373.000</td>\n",
       "                        <td id=\"T_b2187_row2_col2\" class=\"data row2 col2\" >0.087</td>\n",
       "            </tr>\n",
       "            <tr>\n",
       "                        <th id=\"T_b2187_level0_row3\" class=\"row_heading level0 row3\" >(161380.0, 214604.0]</th>\n",
       "                        <td id=\"T_b2187_row3_col0\" class=\"data row3 col0\" >4266.000</td>\n",
       "                        <td id=\"T_b2187_row3_col1\" class=\"data row3 col1\" >358.000</td>\n",
       "                        <td id=\"T_b2187_row3_col2\" class=\"data row3 col2\" >0.084</td>\n",
       "            </tr>\n",
       "            <tr>\n",
       "                        <th id=\"T_b2187_level0_row4\" class=\"row_heading level0 row4\" >(214604.0, 2265604.0]</th>\n",
       "                        <td id=\"T_b2187_row4_col0\" class=\"data row4 col0\" >4266.000</td>\n",
       "                        <td id=\"T_b2187_row4_col1\" class=\"data row4 col1\" >299.000</td>\n",
       "                        <td id=\"T_b2187_row4_col2\" class=\"data row4 col2\" >0.070</td>\n",
       "            </tr>\n",
       "    </tbody></table>"
      ],
      "text/plain": [
       "<pandas.io.formats.style.Styler at 0x7f8f634052b0>"
      ]
     },
     "metadata": {},
     "output_type": "display_data"
    },
    {
     "data": {
      "text/html": [
       "<style  type=\"text/css\" >\n",
       "#T_09c33_row0_col0{\n",
       "            background-color:  #63a8d3;\n",
       "            color:  #000000;\n",
       "        }#T_09c33_row0_col1{\n",
       "            background-color:  #7ab6d9;\n",
       "            color:  #000000;\n",
       "        }#T_09c33_row0_col2{\n",
       "            background-color:  #60a7d2;\n",
       "            color:  #000000;\n",
       "        }#T_09c33_row1_col0,#T_09c33_row5_col0{\n",
       "            background-color:  #64a9d3;\n",
       "            color:  #000000;\n",
       "        }#T_09c33_row1_col1{\n",
       "            background-color:  #4e9acb;\n",
       "            color:  #000000;\n",
       "        }#T_09c33_row1_col2{\n",
       "            background-color:  #3383be;\n",
       "            color:  #000000;\n",
       "        }#T_09c33_row2_col0,#T_09c33_row2_col1,#T_09c33_row2_col2{\n",
       "            background-color:  #08306b;\n",
       "            color:  #f1f1f1;\n",
       "        }#T_09c33_row3_col0{\n",
       "            background-color:  #549fcd;\n",
       "            color:  #000000;\n",
       "        }#T_09c33_row3_col1{\n",
       "            background-color:  #3a8ac2;\n",
       "            color:  #000000;\n",
       "        }#T_09c33_row3_col2{\n",
       "            background-color:  #2373b6;\n",
       "            color:  #f1f1f1;\n",
       "        }#T_09c33_row4_col0,#T_09c33_row5_col1,#T_09c33_row5_col2{\n",
       "            background-color:  #f7fbff;\n",
       "            color:  #000000;\n",
       "        }#T_09c33_row4_col1{\n",
       "            background-color:  #a8cee4;\n",
       "            color:  #000000;\n",
       "        }#T_09c33_row4_col2{\n",
       "            background-color:  #5aa2cf;\n",
       "            color:  #000000;\n",
       "        }</style><table id=\"T_09c33_\" ><thead>    <tr>        <th class=\"blank level0\" ></th>        <th class=\"col_heading level0 col0\" >Всего кредитополучателей</th>        <th class=\"col_heading level0 col1\" >Всего должников</th>        <th class=\"col_heading level0 col2\" >Доля должников</th>    </tr>    <tr>        <th class=\"index_name level0\" >new_category</th>        <th class=\"blank\" ></th>        <th class=\"blank\" ></th>        <th class=\"blank\" ></th>    </tr></thead><tbody>\n",
       "                <tr>\n",
       "                        <th id=\"T_09c33_level0_row0\" class=\"row_heading level0 row0\" >(20666.0, 92092.0]</th>\n",
       "                        <td id=\"T_09c33_row0_col0\" class=\"data row0 col0\" >3556.000</td>\n",
       "                        <td id=\"T_09c33_row0_col1\" class=\"data row0 col1\" >285.000</td>\n",
       "                        <td id=\"T_09c33_row0_col2\" class=\"data row0 col2\" >0.080</td>\n",
       "            </tr>\n",
       "            <tr>\n",
       "                        <th id=\"T_09c33_level0_row1\" class=\"row_heading level0 row1\" >(92092.0, 119218.0]</th>\n",
       "                        <td id=\"T_09c33_row1_col0\" class=\"data row1 col0\" >3555.000</td>\n",
       "                        <td id=\"T_09c33_row1_col1\" class=\"data row1 col1\" >295.000</td>\n",
       "                        <td id=\"T_09c33_row1_col2\" class=\"data row1 col2\" >0.083</td>\n",
       "            </tr>\n",
       "            <tr>\n",
       "                        <th id=\"T_09c33_level0_row2\" class=\"row_heading level0 row2\" >(119218.0, 142594.0]</th>\n",
       "                        <td id=\"T_09c33_row2_col0\" class=\"data row2 col0\" >3672.000</td>\n",
       "                        <td id=\"T_09c33_row2_col1\" class=\"data row2 col1\" >327.000</td>\n",
       "                        <td id=\"T_09c33_row2_col2\" class=\"data row2 col2\" >0.089</td>\n",
       "            </tr>\n",
       "            <tr>\n",
       "                        <th id=\"T_09c33_level0_row3\" class=\"row_heading level0 row3\" >(142594.0, 172357.0]</th>\n",
       "                        <td id=\"T_09c33_row3_col0\" class=\"data row3 col0\" >3566.000</td>\n",
       "                        <td id=\"T_09c33_row3_col1\" class=\"data row3 col1\" >300.000</td>\n",
       "                        <td id=\"T_09c33_row3_col2\" class=\"data row3 col2\" >0.084</td>\n",
       "            </tr>\n",
       "            <tr>\n",
       "                        <th id=\"T_09c33_level0_row4\" class=\"row_heading level0 row4\" >(172357.0, 228893.0]</th>\n",
       "                        <td id=\"T_09c33_row4_col0\" class=\"data row4 col0\" >3427.000</td>\n",
       "                        <td id=\"T_09c33_row4_col1\" class=\"data row4 col1\" >276.000</td>\n",
       "                        <td id=\"T_09c33_row4_col2\" class=\"data row4 col2\" >0.081</td>\n",
       "            </tr>\n",
       "            <tr>\n",
       "                        <th id=\"T_09c33_level0_row5\" class=\"row_heading level0 row5\" >(228893.0, 2265604.0]</th>\n",
       "                        <td id=\"T_09c33_row5_col0\" class=\"data row5 col0\" >3555.000</td>\n",
       "                        <td id=\"T_09c33_row5_col1\" class=\"data row5 col1\" >249.000</td>\n",
       "                        <td id=\"T_09c33_row5_col2\" class=\"data row5 col2\" >0.070</td>\n",
       "            </tr>\n",
       "    </tbody></table>"
      ],
      "text/plain": [
       "<pandas.io.formats.style.Styler at 0x7f8f633f4880>"
      ]
     },
     "metadata": {},
     "output_type": "display_data"
    },
    {
     "data": {
      "text/html": [
       "<style  type=\"text/css\" >\n",
       "#T_3b2c1_row0_col0,#T_3b2c1_row3_col1,#T_3b2c1_row3_col2,#T_3b2c1_row6_col0{\n",
       "            background-color:  #08306b;\n",
       "            color:  #f1f1f1;\n",
       "        }#T_3b2c1_row0_col1,#T_3b2c1_row0_col2{\n",
       "            background-color:  #8dc1dd;\n",
       "            color:  #000000;\n",
       "        }#T_3b2c1_row1_col0,#T_3b2c1_row2_col0,#T_3b2c1_row3_col0,#T_3b2c1_row4_col0,#T_3b2c1_row5_col0,#T_3b2c1_row6_col1,#T_3b2c1_row6_col2{\n",
       "            background-color:  #f7fbff;\n",
       "            color:  #000000;\n",
       "        }#T_3b2c1_row1_col1,#T_3b2c1_row1_col2{\n",
       "            background-color:  #083979;\n",
       "            color:  #f1f1f1;\n",
       "        }#T_3b2c1_row2_col1,#T_3b2c1_row2_col2{\n",
       "            background-color:  #083471;\n",
       "            color:  #f1f1f1;\n",
       "        }#T_3b2c1_row4_col1,#T_3b2c1_row4_col2{\n",
       "            background-color:  #09529d;\n",
       "            color:  #f1f1f1;\n",
       "        }#T_3b2c1_row5_col1,#T_3b2c1_row5_col2{\n",
       "            background-color:  #4f9bcb;\n",
       "            color:  #000000;\n",
       "        }</style><table id=\"T_3b2c1_\" ><thead>    <tr>        <th class=\"blank level0\" ></th>        <th class=\"col_heading level0 col0\" >Всего кредитополучателей</th>        <th class=\"col_heading level0 col1\" >Всего должников</th>        <th class=\"col_heading level0 col2\" >Доля должников</th>    </tr>    <tr>        <th class=\"index_name level0\" >new_category</th>        <th class=\"blank\" ></th>        <th class=\"blank\" ></th>        <th class=\"blank\" ></th>    </tr></thead><tbody>\n",
       "                <tr>\n",
       "                        <th id=\"T_3b2c1_level0_row0\" class=\"row_heading level0 row0\" >(20666.0, 87287.0]</th>\n",
       "                        <td id=\"T_3b2c1_row0_col0\" class=\"data row0 col0\" >3048.000</td>\n",
       "                        <td id=\"T_3b2c1_row0_col1\" class=\"data row0 col1\" >233.000</td>\n",
       "                        <td id=\"T_3b2c1_row0_col2\" class=\"data row0 col2\" >0.076</td>\n",
       "            </tr>\n",
       "            <tr>\n",
       "                        <th id=\"T_3b2c1_level0_row1\" class=\"row_heading level0 row1\" >(87287.0, 113563.0]</th>\n",
       "                        <td id=\"T_3b2c1_row1_col0\" class=\"data row1 col0\" >3047.000</td>\n",
       "                        <td id=\"T_3b2c1_row1_col1\" class=\"data row1 col1\" >262.000</td>\n",
       "                        <td id=\"T_3b2c1_row1_col2\" class=\"data row1 col2\" >0.086</td>\n",
       "            </tr>\n",
       "            <tr>\n",
       "                        <th id=\"T_3b2c1_level0_row2\" class=\"row_heading level0 row2\" >(113563.0, 137465.0]</th>\n",
       "                        <td id=\"T_3b2c1_row2_col0\" class=\"data row2 col0\" >3047.000</td>\n",
       "                        <td id=\"T_3b2c1_row2_col1\" class=\"data row2 col1\" >263.000</td>\n",
       "                        <td id=\"T_3b2c1_row2_col2\" class=\"data row2 col2\" >0.086</td>\n",
       "            </tr>\n",
       "            <tr>\n",
       "                        <th id=\"T_3b2c1_level0_row3\" class=\"row_heading level0 row3\" >(137465.0, 155314.0]</th>\n",
       "                        <td id=\"T_3b2c1_row3_col0\" class=\"data row3 col0\" >3047.000</td>\n",
       "                        <td id=\"T_3b2c1_row3_col1\" class=\"data row3 col1\" >264.000</td>\n",
       "                        <td id=\"T_3b2c1_row3_col2\" class=\"data row3 col2\" >0.087</td>\n",
       "            </tr>\n",
       "            <tr>\n",
       "                        <th id=\"T_3b2c1_level0_row4\" class=\"row_heading level0 row4\" >(155314.0, 184554.0]</th>\n",
       "                        <td id=\"T_3b2c1_row4_col0\" class=\"data row4 col0\" >3047.000</td>\n",
       "                        <td id=\"T_3b2c1_row4_col1\" class=\"data row4 col1\" >257.000</td>\n",
       "                        <td id=\"T_3b2c1_row4_col2\" class=\"data row4 col2\" >0.084</td>\n",
       "            </tr>\n",
       "            <tr>\n",
       "                        <th id=\"T_3b2c1_level0_row5\" class=\"row_heading level0 row5\" >(184554.0, 242009.0]</th>\n",
       "                        <td id=\"T_3b2c1_row5_col0\" class=\"data row5 col0\" >3047.000</td>\n",
       "                        <td id=\"T_3b2c1_row5_col1\" class=\"data row5 col1\" >242.000</td>\n",
       "                        <td id=\"T_3b2c1_row5_col2\" class=\"data row5 col2\" >0.079</td>\n",
       "            </tr>\n",
       "            <tr>\n",
       "                        <th id=\"T_3b2c1_level0_row6\" class=\"row_heading level0 row6\" >(242009.0, 2265604.0]</th>\n",
       "                        <td id=\"T_3b2c1_row6_col0\" class=\"data row6 col0\" >3048.000</td>\n",
       "                        <td id=\"T_3b2c1_row6_col1\" class=\"data row6 col1\" >211.000</td>\n",
       "                        <td id=\"T_3b2c1_row6_col2\" class=\"data row6 col2\" >0.069</td>\n",
       "            </tr>\n",
       "    </tbody></table>"
      ],
      "text/plain": [
       "<pandas.io.formats.style.Styler at 0x7f8f634052b0>"
      ]
     },
     "metadata": {},
     "output_type": "display_data"
    },
    {
     "data": {
      "text/html": [
       "<style  type=\"text/css\" >\n",
       "#T_76f6e_row0_col0,#T_76f6e_row5_col0,#T_76f6e_row7_col0{\n",
       "            background-color:  #6aaed6;\n",
       "            color:  #000000;\n",
       "        }#T_76f6e_row0_col1{\n",
       "            background-color:  #aacfe5;\n",
       "            color:  #000000;\n",
       "        }#T_76f6e_row0_col2{\n",
       "            background-color:  #91c3de;\n",
       "            color:  #000000;\n",
       "        }#T_76f6e_row1_col0,#T_76f6e_row2_col0{\n",
       "            background-color:  #6caed6;\n",
       "            color:  #000000;\n",
       "        }#T_76f6e_row1_col1,#T_76f6e_row5_col1{\n",
       "            background-color:  #519ccc;\n",
       "            color:  #000000;\n",
       "        }#T_76f6e_row1_col2,#T_76f6e_row5_col2{\n",
       "            background-color:  #2f7fbc;\n",
       "            color:  #000000;\n",
       "        }#T_76f6e_row2_col1{\n",
       "            background-color:  #1c6ab0;\n",
       "            color:  #f1f1f1;\n",
       "        }#T_76f6e_row2_col2{\n",
       "            background-color:  #084285;\n",
       "            color:  #f1f1f1;\n",
       "        }#T_76f6e_row3_col0,#T_76f6e_row3_col1,#T_76f6e_row3_col2{\n",
       "            background-color:  #08306b;\n",
       "            color:  #f1f1f1;\n",
       "        }#T_76f6e_row4_col0,#T_76f6e_row7_col1,#T_76f6e_row7_col2{\n",
       "            background-color:  #f7fbff;\n",
       "            color:  #000000;\n",
       "        }#T_76f6e_row4_col1{\n",
       "            background-color:  #4695c8;\n",
       "            color:  #000000;\n",
       "        }#T_76f6e_row4_col2{\n",
       "            background-color:  #084184;\n",
       "            color:  #f1f1f1;\n",
       "        }#T_76f6e_row6_col0{\n",
       "            background-color:  #6dafd7;\n",
       "            color:  #000000;\n",
       "        }#T_76f6e_row6_col1{\n",
       "            background-color:  #d4e4f4;\n",
       "            color:  #000000;\n",
       "        }#T_76f6e_row6_col2{\n",
       "            background-color:  #cddff1;\n",
       "            color:  #000000;\n",
       "        }</style><table id=\"T_76f6e_\" ><thead>    <tr>        <th class=\"blank level0\" ></th>        <th class=\"col_heading level0 col0\" >Всего кредитополучателей</th>        <th class=\"col_heading level0 col1\" >Всего должников</th>        <th class=\"col_heading level0 col2\" >Доля должников</th>    </tr>    <tr>        <th class=\"index_name level0\" >new_category</th>        <th class=\"blank\" ></th>        <th class=\"blank\" ></th>        <th class=\"blank\" ></th>    </tr></thead><tbody>\n",
       "                <tr>\n",
       "                        <th id=\"T_76f6e_level0_row0\" class=\"row_heading level0 row0\" >(20666.0, 83837.0]</th>\n",
       "                        <td id=\"T_76f6e_row0_col0\" class=\"data row0 col0\" >2667.000</td>\n",
       "                        <td id=\"T_76f6e_row0_col1\" class=\"data row0 col1\" >206.000</td>\n",
       "                        <td id=\"T_76f6e_row0_col2\" class=\"data row0 col2\" >0.077</td>\n",
       "            </tr>\n",
       "            <tr>\n",
       "                        <th id=\"T_76f6e_level0_row1\" class=\"row_heading level0 row1\" >(83837.0, 107507.0]</th>\n",
       "                        <td id=\"T_76f6e_row1_col0\" class=\"data row1 col0\" >2666.000</td>\n",
       "                        <td id=\"T_76f6e_row1_col1\" class=\"data row1 col1\" >221.000</td>\n",
       "                        <td id=\"T_76f6e_row1_col2\" class=\"data row1 col2\" >0.083</td>\n",
       "            </tr>\n",
       "            <tr>\n",
       "                        <th id=\"T_76f6e_level0_row2\" class=\"row_heading level0 row2\" >(107507.0, 127546.0]</th>\n",
       "                        <td id=\"T_76f6e_row2_col0\" class=\"data row2 col0\" >2666.000</td>\n",
       "                        <td id=\"T_76f6e_row2_col1\" class=\"data row2 col1\" >233.000</td>\n",
       "                        <td id=\"T_76f6e_row2_col2\" class=\"data row2 col2\" >0.087</td>\n",
       "            </tr>\n",
       "            <tr>\n",
       "                        <th id=\"T_76f6e_level0_row3\" class=\"row_heading level0 row3\" >(127546.0, 142594.0]</th>\n",
       "                        <td id=\"T_76f6e_row3_col0\" class=\"data row3 col0\" >2784.000</td>\n",
       "                        <td id=\"T_76f6e_row3_col1\" class=\"data row3 col1\" >247.000</td>\n",
       "                        <td id=\"T_76f6e_row3_col2\" class=\"data row3 col2\" >0.089</td>\n",
       "            </tr>\n",
       "            <tr>\n",
       "                        <th id=\"T_76f6e_level0_row4\" class=\"row_heading level0 row4\" >(142594.0, 166525.0]</th>\n",
       "                        <td id=\"T_76f6e_row4_col0\" class=\"data row4 col0\" >2549.000</td>\n",
       "                        <td id=\"T_76f6e_row4_col1\" class=\"data row4 col1\" >223.000</td>\n",
       "                        <td id=\"T_76f6e_row4_col2\" class=\"data row4 col2\" >0.087</td>\n",
       "            </tr>\n",
       "            <tr>\n",
       "                        <th id=\"T_76f6e_level0_row5\" class=\"row_heading level0 row5\" >(166525.0, 195842.0]</th>\n",
       "                        <td id=\"T_76f6e_row5_col0\" class=\"data row5 col0\" >2667.000</td>\n",
       "                        <td id=\"T_76f6e_row5_col1\" class=\"data row5 col1\" >221.000</td>\n",
       "                        <td id=\"T_76f6e_row5_col2\" class=\"data row5 col2\" >0.083</td>\n",
       "            </tr>\n",
       "            <tr>\n",
       "                        <th id=\"T_76f6e_level0_row6\" class=\"row_heading level0 row6\" >(195842.0, 254250.0]</th>\n",
       "                        <td id=\"T_76f6e_row6_col0\" class=\"data row6 col0\" >2665.000</td>\n",
       "                        <td id=\"T_76f6e_row6_col1\" class=\"data row6 col1\" >196.000</td>\n",
       "                        <td id=\"T_76f6e_row6_col2\" class=\"data row6 col2\" >0.074</td>\n",
       "            </tr>\n",
       "            <tr>\n",
       "                        <th id=\"T_76f6e_level0_row7\" class=\"row_heading level0 row7\" >(254250.0, 2265604.0]</th>\n",
       "                        <td id=\"T_76f6e_row7_col0\" class=\"data row7 col0\" >2667.000</td>\n",
       "                        <td id=\"T_76f6e_row7_col1\" class=\"data row7 col1\" >185.000</td>\n",
       "                        <td id=\"T_76f6e_row7_col2\" class=\"data row7 col2\" >0.069</td>\n",
       "            </tr>\n",
       "    </tbody></table>"
      ],
      "text/plain": [
       "<pandas.io.formats.style.Styler at 0x7f8f62697310>"
      ]
     },
     "metadata": {},
     "output_type": "display_data"
    }
   ],
   "source": [
    "# Комментарий ревьюера 2\n",
    "temp = data.copy()\n",
    "start, stop = 3, 8 # начальное и конечное количество категорий\n",
    "while start <= stop:\n",
    "    temp['new_category'] = pd.qcut(temp['total_income'], q=start, precision=0)\n",
    "    que('new_category')\n",
    "    start += 1"
   ]
  },
  {
   "cell_type": "markdown",
   "id": "fd29f934",
   "metadata": {},
   "source": [
    "<font color='DarkBlue'><b>Комментарий ревьюера 2</b></font><br>\n",
    "<font color='DarkMagenta'>👉 Вот, нашлась самая кредито-опасная категория дохода заемщиков, повод для более глубокого анализа.</font>"
   ]
  },
  {
   "cell_type": "markdown",
   "id": "1dcc9b12",
   "metadata": {
    "deletable": false,
    "editable": false,
    "id": "1dcc9b12"
   },
   "source": [
    "#### 3.4 Как разные цели кредита влияют на его возврат в срок?"
   ]
  },
  {
   "cell_type": "markdown",
   "id": "3d7e4c92",
   "metadata": {},
   "source": [
    "Таблица с количеством заемщиков, сгруппированная по цели кредита:"
   ]
  },
  {
   "cell_type": "code",
   "execution_count": 36,
   "id": "88e7b945",
   "metadata": {},
   "outputs": [
    {
     "name": "stdout",
     "output_type": "stream",
     "text": [
      "purpose_category\n",
      "проведение свадьбы           2313\n",
      "получение образования        3988\n",
      "операции с автомобилем       4279\n",
      "операции с недвижимостью    10751\n",
      "Name: debt, dtype: int64\n"
     ]
    }
   ],
   "source": [
    "print(data.groupby('purpose_category')['debt'].count().sort_values(ascending=True))"
   ]
  },
  {
   "cell_type": "markdown",
   "id": "eed9f5c5",
   "metadata": {},
   "source": [
    "Таблица с количеством заемщиков, имевших задолженности, сгруппированная по цели кредита:"
   ]
  },
  {
   "cell_type": "code",
   "execution_count": 37,
   "id": "1be1cc3c",
   "metadata": {},
   "outputs": [
    {
     "name": "stdout",
     "output_type": "stream",
     "text": [
      "purpose_category\n",
      "проведение свадьбы          183\n",
      "получение образования       369\n",
      "операции с автомобилем      400\n",
      "операции с недвижимостью    780\n",
      "Name: debt, dtype: int64\n"
     ]
    }
   ],
   "source": [
    "print(data.groupby('purpose_category')['debt'].sum().sort_values(ascending=True))"
   ]
  },
  {
   "cell_type": "markdown",
   "id": "f7f7e06c",
   "metadata": {},
   "source": [
    "Ищем отношение количества заемщиков, имевших задолженности к общему количеству заемщиков для каждой цели кредита."
   ]
  },
  {
   "cell_type": "code",
   "execution_count": 38,
   "id": "c602bc8b",
   "metadata": {
    "deletable": false,
    "id": "c602bc8b"
   },
   "outputs": [
    {
     "name": "stdout",
     "output_type": "stream",
     "text": [
      "purpose_category\n",
      "операции с недвижимостью    0.072551\n",
      "проведение свадьбы          0.079118\n",
      "получение образования       0.092528\n",
      "операции с автомобилем      0.093480\n",
      "Name: debt, dtype: float64\n"
     ]
    }
   ],
   "source": [
    "print(data.groupby('purpose_category')['debt'].mean().sort_values(ascending=True))"
   ]
  },
  {
   "cell_type": "markdown",
   "id": "99700bb2",
   "metadata": {},
   "source": [
    "<font color='Blue'><b>Исправленная таблица с представленными результатами</b></font>"
   ]
  },
  {
   "cell_type": "code",
   "execution_count": 39,
   "id": "e113ec6b",
   "metadata": {},
   "outputs": [
    {
     "data": {
      "text/html": [
       "<div>\n",
       "<style scoped>\n",
       "    .dataframe tbody tr th:only-of-type {\n",
       "        vertical-align: middle;\n",
       "    }\n",
       "\n",
       "    .dataframe tbody tr th {\n",
       "        vertical-align: top;\n",
       "    }\n",
       "\n",
       "    .dataframe thead th {\n",
       "        text-align: right;\n",
       "    }\n",
       "</style>\n",
       "<table border=\"1\" class=\"dataframe\">\n",
       "  <thead>\n",
       "    <tr style=\"text-align: right;\">\n",
       "      <th></th>\n",
       "      <th>Всего кредитополучателей</th>\n",
       "      <th>Всего должников</th>\n",
       "      <th>Доля должников</th>\n",
       "      <th>Процент разницы</th>\n",
       "    </tr>\n",
       "    <tr>\n",
       "      <th>purpose_category</th>\n",
       "      <th></th>\n",
       "      <th></th>\n",
       "      <th></th>\n",
       "      <th></th>\n",
       "    </tr>\n",
       "  </thead>\n",
       "  <tbody>\n",
       "    <tr>\n",
       "      <th>операции с автомобилем</th>\n",
       "      <td>4279</td>\n",
       "      <td>400</td>\n",
       "      <td>0.093480</td>\n",
       "      <td>0.000000</td>\n",
       "    </tr>\n",
       "    <tr>\n",
       "      <th>операции с недвижимостью</th>\n",
       "      <td>10751</td>\n",
       "      <td>780</td>\n",
       "      <td>0.072551</td>\n",
       "      <td>22.388150</td>\n",
       "    </tr>\n",
       "    <tr>\n",
       "      <th>получение образования</th>\n",
       "      <td>3988</td>\n",
       "      <td>369</td>\n",
       "      <td>0.092528</td>\n",
       "      <td>1.018618</td>\n",
       "    </tr>\n",
       "    <tr>\n",
       "      <th>проведение свадьбы</th>\n",
       "      <td>2313</td>\n",
       "      <td>183</td>\n",
       "      <td>0.079118</td>\n",
       "      <td>15.363489</td>\n",
       "    </tr>\n",
       "  </tbody>\n",
       "</table>\n",
       "</div>"
      ],
      "text/plain": [
       "                          Всего кредитополучателей  Всего должников  \\\n",
       "purpose_category                                                      \n",
       "операции с автомобилем                        4279              400   \n",
       "операции с недвижимостью                     10751              780   \n",
       "получение образования                         3988              369   \n",
       "проведение свадьбы                            2313              183   \n",
       "\n",
       "                          Доля должников  Процент разницы  \n",
       "purpose_category                                           \n",
       "операции с автомобилем          0.093480         0.000000  \n",
       "операции с недвижимостью        0.072551        22.388150  \n",
       "получение образования           0.092528         1.018618  \n",
       "проведение свадьбы              0.079118        15.363489  "
      ]
     },
     "metadata": {},
     "output_type": "display_data"
    }
   ],
   "source": [
    "res = data.pivot_table(index=[\"purpose_category\"], values=[\"debt\"], aggfunc=['count', 'sum', 'mean'])\n",
    "res.columns=['Всего кредитополучателей', 'Всего должников', 'Доля должников']\n",
    "res['Процент разницы'] = (1 - res['Доля должников'] / res['Доля должников'][0])*100\n",
    "display(res)"
   ]
  },
  {
   "cell_type": "markdown",
   "id": "cf05ed63",
   "metadata": {
    "deletable": false,
    "id": "cf05ed63"
   },
   "source": [
    "**Вывод:** Такие цели как 'получение образования' и 'операции с автомобилем' имеют больше должников, чем остальные"
   ]
  },
  {
   "cell_type": "markdown",
   "id": "da9a6c2b",
   "metadata": {},
   "source": [
    "<font color='DarkBlue'><b>Комментарий ревьюера</b></font><br>\n",
    "<font color='DarkGreen'>👌 Правильно, видимо, кредиты на автомобиль и обучение несут дополнительные риски связанные или с возможной аварией, или с проблемами трудоустройства после обучения.</font>"
   ]
  },
  {
   "cell_type": "markdown",
   "id": "46c1f10b",
   "metadata": {
    "deletable": false,
    "editable": false,
    "id": "46c1f10b"
   },
   "source": [
    "#### 3.5 Приведите возможные причины появления пропусков в исходных данных."
   ]
  },
  {
   "cell_type": "markdown",
   "id": "3697d2a9",
   "metadata": {
    "deletable": false,
    "id": "3697d2a9"
   },
   "source": [
    "*Ответ:* В двух столбцах присутствовали пропущенные значения — days_employed и total_income. total_income — ежемесячный доход, можно предположить, что заемщики не желали указывать данную информацию, посчитав её слишком личной. Пропуски в трудовом стаже могут быть вызваны тем, что люди работали неофициально и официального стажа у них не было."
   ]
  },
  {
   "cell_type": "markdown",
   "id": "80b76551",
   "metadata": {},
   "source": [
    "<font color='DarkBlue'><b>Комментарий ревьюера</b></font><br>\n",
    "<font color='DarkMagenta'>👉 Существует несколько причин отсутствия данных в датасетах, в том числе:<br>\n",
    "- Человеческий фактор: Ошибки ввода данных, не желание отвечать на определенные вопросы.\n",
    "- Технические проблемы: Возможны сбои с оборудованием или программным обеспечением для сбора данных. Отсутствующие данные могут быть удалены в процессе обработки или очистки данных.\n",
    "- Организационные: Конфиденциальность, могут отсутствовать данные, идентифицирующие отдельных лиц или компании.</font>"
   ]
  },
  {
   "cell_type": "markdown",
   "id": "3137d257",
   "metadata": {
    "deletable": false,
    "editable": false,
    "id": "3137d257"
   },
   "source": [
    "#### 3.6 Объясните, почему заполнить пропуски медианным значением — лучшее решение для количественных переменных."
   ]
  },
  {
   "cell_type": "markdown",
   "id": "cf40012a",
   "metadata": {
    "deletable": false,
    "id": "cf40012a"
   },
   "source": [
    "*Ответ:* Заполнение пропусков медианным значением не искажает итоговое медианное значение всей выборки, что позволяет более точно выявлять сравнения и зависимости."
   ]
  },
  {
   "cell_type": "markdown",
   "id": "14446aac",
   "metadata": {},
   "source": [
    "<font color='DarkBlue'><b>Комментарий ревьюера</b></font><br>\n",
    "<font color='Red'>🛠 Не понятный ответ. Переформулирую вопрос: какие особенности данных в датасете влияют или не влияют на расчет средних и медиан. Если есть трудности, то следует обратиться за помощью к преподавателю.</font>"
   ]
  },
  {
   "cell_type": "markdown",
   "id": "fbf8bec3",
   "metadata": {},
   "source": [
    "Особенности данных в датасете, которые могут повлиять на расчет средних и медиан:\n",
    "\n",
    "1. Экстремальные значения - чрезмерно большие/маленькие значения могут искажать результаты расчетов средних и медиан."
   ]
  },
  {
   "cell_type": "code",
   "execution_count": 40,
   "id": "94f1f375",
   "metadata": {},
   "outputs": [
    {
     "name": "stdout",
     "output_type": "stream",
     "text": [
      "Среднее арифметическое исходных данных: 261.2\n",
      "Среднее арифметическое данных, содержащих ошибку: 213248.0\n",
      "\n",
      "Медиана исходных данных: 97.0\n",
      "Медиана данных, содержащих ошибку: 97.0\n",
      "------------------------------------------\n",
      "Среднее арифметическое исходных данных: 297.7142857142857\n",
      "Среднее арифметическое данных, содержащих ошибку: 135305.42857142858\n",
      "\n",
      "Медиана исходных данных: 334.0\n",
      "Медиана данных, содержащих ошибку: 444.0\n",
      "\n"
     ]
    }
   ],
   "source": [
    "# Предположим, что список содержит зарплаты сотрудников в тыс. рублей, но \n",
    "# кто-то вписал свою зарплату не в тыс. руб, а просто в рублях\n",
    "salaries = pd.Series([97, 56, 87, 454, 612])\n",
    "\n",
    "salaries_with_mistake = pd.Series([97, 56, 87, 454000, 612000])\n",
    "\n",
    "print(\"Среднее арифметическое исходных данных:\", salaries.mean())\n",
    "print(\"Среднее арифметическое данных, содержащих ошибку:\", salaries_with_mistake.mean())\n",
    "print()\n",
    "print(\"Медиана исходных данных:\", salaries.median())\n",
    "print(\"Медиана данных, содержащих ошибку:\",salaries_with_mistake.median())\n",
    "print('------------------------------------------')\n",
    "# Медиана не изменилась, поскольку данные состоят из нечётного количества элементов\n",
    "# Покажем, что будет при чётном количестве элементов\n",
    "salaries = pd.Series([97, 56, 87, 454, 612, 334, 444])\n",
    "\n",
    "salaries_with_mistake = pd.Series([97, 56, 87, 454, 612000,334000, 444])\n",
    "print(\"Среднее арифметическое исходных данных:\", salaries.mean())\n",
    "print(\"Среднее арифметическое данных, содержащих ошибку:\", salaries_with_mistake.mean())\n",
    "print()\n",
    "print(\"Медиана исходных данных:\", salaries.median())\n",
    "print(\"Медиана данных, содержащих ошибку:\",salaries_with_mistake.median())\n",
    "print()"
   ]
  },
  {
   "cell_type": "markdown",
   "id": "1108a222",
   "metadata": {},
   "source": [
    "<b>Итог:</b> если данные имеют большую вариативность, то медиана может быть более репрезентативной, чем среднее значение."
   ]
  },
  {
   "cell_type": "markdown",
   "id": "98182b78",
   "metadata": {},
   "source": [
    "2. Пропущенные значения могут влиять на точность расчетов, но это зависит от метода обработки пропущенных значений."
   ]
  },
  {
   "cell_type": "code",
   "execution_count": 41,
   "id": "ed4494e3",
   "metadata": {},
   "outputs": [
    {
     "name": "stdout",
     "output_type": "stream",
     "text": [
      "Среднее арифметическое исходных данных: 400.2857142857143\n",
      "Среднее арифметическое данных, содержащих пропуски: 476.4\n",
      "\n",
      "Медиана исходных данных: 333.0\n",
      "Медиана данных, содержащих пропуски: 612.0\n",
      "\n"
     ]
    }
   ],
   "source": [
    "salaries = pd.Series([56, 87, 612, 333, 700, 1000, 14])\n",
    "salaries_with_mistake  = pd.Series([56, None, 612, None, 700, 1000, 14])\n",
    "\n",
    "print(\"Среднее арифметическое исходных данных:\", salaries.mean())\n",
    "print(\"Среднее арифметическое данных, содержащих пропуски:\", salaries_with_mistake.mean())\n",
    "print()\n",
    "print(\"Медиана исходных данных:\", salaries.median())\n",
    "print(\"Медиана данных, содержащих пропуски:\",salaries_with_mistake.median())\n",
    "print()"
   ]
  },
  {
   "cell_type": "markdown",
   "id": "b826414d",
   "metadata": {},
   "source": [
    "3. Размер выборки: чем больше выборка, тем более точными будут оценки средних и медиан."
   ]
  },
  {
   "cell_type": "markdown",
   "id": "bf876502",
   "metadata": {},
   "source": [
    "*Ответ:* Заполнение пропусков медианным значением является лучшим решением для количественных переменных, потому что медиана является робастной мерой центральной тенденции, которая не зависит от выбросов и аномальных значений в данных. \n",
    "Таким образом, заполнение пропусков медианным значением позволяет сохранить статистическую точность данных и не искажать результаты анализа. Кроме того, медиана является более устойчивой и надежной мерой центральной тенденции, чем среднее значение, которое может быть сильно искажено выбросами в данных."
   ]
  },
  {
   "cell_type": "markdown",
   "id": "dcec4afa",
   "metadata": {},
   "source": [
    "<font color='Blue'><b>Нашел объяснение, изложенное профессиональном языком. Очень хочу оставить его в своем проекте, если так можно</b></font>"
   ]
  },
  {
   "cell_type": "markdown",
   "id": "d95ce776",
   "metadata": {},
   "source": [
    "<font color='DarkBlue'><b>Комментарий ревьюера 2</b></font><br>\n",
    "<font color='DarkGreen'>👌 Правильно, у средних более высокая чувствительность к выбросам, чем у медиан.<br>Можно попробовать посчитать и сравнить среднюю и медиану для колонки с выбросами, например `days_employed`.</font><br>\n",
    "<font color='DarkMagenta'>👉 Следует учиться излагать выводы своим языком, со временем, он то же станет профессиональным.</font>"
   ]
  },
  {
   "cell_type": "markdown",
   "id": "57bc304e",
   "metadata": {
    "deletable": false,
    "editable": false,
    "id": "57bc304e"
   },
   "source": [
    "### Шаг 4: общий вывод."
   ]
  },
  {
   "cell_type": "markdown",
   "id": "1ab75d1c",
   "metadata": {
    "deletable": false,
    "id": "1ab75d1c"
   },
   "source": [
    "После обработки исходных данных о заемщиках мне удалось изучить информацию о взаимосвязях характеристик и их влиянии на общий результат. Какие-то выводы не удалось сделать ввиду недостатка информации, однако в целом были выявлены изменения в способности возврата кредита в зависимости от уровня дохода и целей взятия кредита."
   ]
  },
  {
   "cell_type": "markdown",
   "id": "ea0bc43a",
   "metadata": {},
   "source": [
    "<font color='DarkBlue'><b>Комментарий ревьюера</b></font><br>\n",
    "<font color='Red'>🛠 Общий вывод относится ко всему проекту, а не только к исследовательскому анализу.<br>Он должен содержать развернутое резюме по всем разделам проекта: описание данных, порядок обработки аномалий, пропусков и дубликатов, предобработка данных для анализа и проведенный анализ.<br>В реальных проектах сначала читают цель исследования, затем полученные выводы, затем уже сам анализ.</font>\n",
    "<br>\n",
    "<font color='DarkMagenta'>👉 В общем выводе можно дать рекомендации по улучшению сбора данных на основе обнаруженных ошибок. А так же  составить портрет добросовестного заемщика.</font>"
   ]
  },
  {
   "cell_type": "markdown",
   "id": "f7c6d787",
   "metadata": {},
   "source": [
    "Поэтапные заключения по каждому этапу работы с данными:<br></br>\n",
    "\n",
    "  1) **Изучение данных и открытие таблицы** -  При выведении первых 20 строк файла можно заметить, что в данных присутствуют некорректные и нелогичные значения (Такие значения называют аномалиями). Всё это будет служить ощутимой помехой при работе с данными и сильно искажать результаты<br>\n",
    "    (Например: столбец days_employed, описывающий стаж кредитополучателей, содержит отрицательные значения; \n",
    "               столбец education, отражающий уровень образования кредитополучателей, имеет слова, буквы которых хаотично записаны в разном регистре; \n",
    "               столбец purpose, содержащий причину взятия кредита, имеет строки с одинаковым смыслом, но разной формулировкой)<br></br>\n",
    "  2) **Порядок обработки аномалий, пропусков и дубликатов** - В таком столбце как \"days_employed\" было необходимо в первую очередь обработать аномалии, после чего исправить пропуски и обработать дубликаты. При обработке пропусков использовалось медианное значение, которое могло быть искажено аномалиями (отрицательными значениями). \n",
    "<br></br>\n",
    "  3) **Предобработка данных для анализа** - Были изменены типы данных и произведена лемматизация и категоризация данных, чтобы сгруппировать данные со схожим смыслом в одни смысловые группы.\n",
    " <br></br> \n",
    " <br></br>\n",
    "Образ идеального кредитополучателя:\n",
    "\n",
    "  1) Нет детей\n",
    "  \n",
    "  2) Есть опыт семейных отношений (состоят или состояли в полноценном, не гражданском, браке)\n",
    "  \n",
    "  3) Доход либо менее 98514 рублей, либо более 214604 рублей\n",
    "  \n",
    "  4) Цель займа - проведение свадьбы или операции с недвижимостью"
   ]
  },
  {
   "cell_type": "markdown",
   "id": "071dea17",
   "metadata": {},
   "source": [
    "<font color='DarkBlue'><b>Заключительный комментарий ревьюера</b></font><br><br>\n",
    "<font color='DarkGreen'>👌 Николай, проект хорошо проработан.<br>Так держать и дальше!<br></font>\n",
    "<font color='Red'>🛠 Что нужно, что бы сделать проект лучше:</font><br>\n",
    "<font color='Red'>🛠 Переделать вывод анализа зависимости между количеством детей и возвратом кредита в срок. Переделать задание по заполнению пропусков медианами. Сделать развернутый общий вывод проекта.<br>\n",
    "<font color='DarkMagenta'>👉 При исправлении ошибок и недочетов будут приобретены дополнительный опыт и навыки!</font><br>\n",
    "<font color='DarkGreen'>👌 Жду окончательный вариант! Успехов.</font>"
   ]
  },
  {
   "attachments": {
    "image.png": {
     "image/png": "[encoded data removed]"
    }
   },
   "cell_type": "markdown",
   "id": "6299e605",
   "metadata": {},
   "source": [
    "<font color='DarkBlue'><b>Заключительный комментарий ревьюера 2</b></font><br><br>\n",
    "<font color='DarkGreen'>👌 Николай! Справились со всеми заданиями в проекте. Молодец!<br>\n",
    "Входе выполнения проекта научились анализировать первичные данные и проводить обработку датасета. Провели самостоятельный исследовательский анализ.<br></font>\n",
    "<font color='DarkGreen'>👌 Теперь, вперед за новыми знаниями и навыками! Удачи! 😉</font>\n",
    "![image.png](attachment:image.png)"
   ]
  }
 ],
 "metadata": {
  "ExecuteTimeLog": [
   {
    "duration": 75,
    "start_time": "2023-09-12T10:22:32.375Z"
   },
   {
    "duration": 777,
    "start_time": "2023-09-12T10:22:36.160Z"
   },
   {
    "duration": 31,
    "start_time": "2023-09-12T10:22:36.939Z"
   },
   {
    "duration": 19,
    "start_time": "2023-09-12T10:22:36.972Z"
   },
   {
    "duration": 13,
    "start_time": "2023-09-12T10:22:36.994Z"
   },
   {
    "duration": 78,
    "start_time": "2023-09-12T10:22:37.009Z"
   },
   {
    "duration": 4,
    "start_time": "2023-09-12T10:22:37.090Z"
   },
   {
    "duration": 15,
    "start_time": "2023-09-12T10:22:37.095Z"
   },
   {
    "duration": 4,
    "start_time": "2023-09-12T10:22:37.112Z"
   },
   {
    "duration": 39,
    "start_time": "2023-09-12T10:22:37.118Z"
   },
   {
    "duration": 4,
    "start_time": "2023-09-12T10:22:37.162Z"
   },
   {
    "duration": 50,
    "start_time": "2023-09-12T10:22:37.168Z"
   },
   {
    "duration": 11,
    "start_time": "2023-09-12T10:22:37.220Z"
   },
   {
    "duration": 5,
    "start_time": "2023-09-12T10:22:37.254Z"
   },
   {
    "duration": 14,
    "start_time": "2023-09-12T10:22:37.263Z"
   },
   {
    "duration": 26,
    "start_time": "2023-09-12T10:22:37.279Z"
   },
   {
    "duration": 18,
    "start_time": "2023-09-12T10:22:37.307Z"
   },
   {
    "duration": 37,
    "start_time": "2023-09-12T10:22:37.327Z"
   },
   {
    "duration": 34,
    "start_time": "2023-09-12T10:22:37.366Z"
   },
   {
    "duration": 15,
    "start_time": "2023-09-12T10:22:37.402Z"
   },
   {
    "duration": 6,
    "start_time": "2023-09-12T10:22:37.419Z"
   },
   {
    "duration": 31,
    "start_time": "2023-09-12T10:22:37.426Z"
   },
   {
    "duration": 17,
    "start_time": "2023-09-12T10:22:37.459Z"
   },
   {
    "duration": 4,
    "start_time": "2023-09-12T10:28:05.185Z"
   },
   {
    "duration": 41,
    "start_time": "2023-09-12T10:28:17.141Z"
   },
   {
    "duration": 4,
    "start_time": "2023-09-12T10:28:30.477Z"
   },
   {
    "duration": 19,
    "start_time": "2023-09-12T10:28:59.385Z"
   },
   {
    "duration": 11,
    "start_time": "2023-09-12T10:29:11.405Z"
   },
   {
    "duration": 15,
    "start_time": "2023-09-12T10:29:21.409Z"
   },
   {
    "duration": 27,
    "start_time": "2023-09-12T10:29:36.382Z"
   },
   {
    "duration": 2753,
    "start_time": "2023-09-12T10:30:27.677Z"
   },
   {
    "duration": 4033,
    "start_time": "2023-09-12T10:30:38.063Z"
   },
   {
    "duration": 7,
    "start_time": "2023-09-12T10:32:54.262Z"
   },
   {
    "duration": 7,
    "start_time": "2023-09-12T10:33:44.597Z"
   },
   {
    "duration": 6,
    "start_time": "2023-09-12T10:33:51.297Z"
   },
   {
    "duration": 7,
    "start_time": "2023-09-12T10:34:05.786Z"
   },
   {
    "duration": 6,
    "start_time": "2023-09-12T10:34:51.221Z"
   },
   {
    "duration": 11,
    "start_time": "2023-09-12T10:42:31.733Z"
   },
   {
    "duration": 19,
    "start_time": "2023-09-12T10:43:03.261Z"
   },
   {
    "duration": 29,
    "start_time": "2023-09-12T10:43:59.741Z"
   },
   {
    "duration": 36,
    "start_time": "2023-09-12T10:48:51.789Z"
   },
   {
    "duration": 221,
    "start_time": "2023-09-12T10:49:26.152Z"
   },
   {
    "duration": 40,
    "start_time": "2023-09-12T10:49:38.548Z"
   },
   {
    "duration": 36,
    "start_time": "2023-09-12T10:50:13.533Z"
   },
   {
    "duration": 29,
    "start_time": "2023-09-12T10:50:42.901Z"
   },
   {
    "duration": 7,
    "start_time": "2023-09-12T11:09:15.321Z"
   },
   {
    "duration": 27,
    "start_time": "2023-09-12T11:12:22.262Z"
   },
   {
    "duration": 30,
    "start_time": "2023-09-12T11:13:09.787Z"
   },
   {
    "duration": 27,
    "start_time": "2023-09-12T11:13:56.358Z"
   },
   {
    "duration": 7,
    "start_time": "2023-09-12T12:04:11.910Z"
   },
   {
    "duration": 7,
    "start_time": "2023-09-12T12:06:24.290Z"
   },
   {
    "duration": 7,
    "start_time": "2023-09-12T12:07:38.910Z"
   },
   {
    "duration": 6,
    "start_time": "2023-09-12T12:07:56.429Z"
   },
   {
    "duration": 6,
    "start_time": "2023-09-12T12:10:37.336Z"
   },
   {
    "duration": 12,
    "start_time": "2023-09-12T12:12:07.140Z"
   },
   {
    "duration": 5,
    "start_time": "2023-09-12T12:14:17.442Z"
   },
   {
    "duration": 8,
    "start_time": "2023-09-12T12:14:49.777Z"
   },
   {
    "duration": 9,
    "start_time": "2023-09-12T12:15:45.021Z"
   },
   {
    "duration": 104,
    "start_time": "2023-09-12T12:17:59.057Z"
   },
   {
    "duration": 10,
    "start_time": "2023-09-12T12:18:06.298Z"
   },
   {
    "duration": 8,
    "start_time": "2023-09-12T12:18:27.005Z"
   },
   {
    "duration": 13,
    "start_time": "2023-09-12T12:37:12.082Z"
   },
   {
    "duration": 14,
    "start_time": "2023-09-12T12:37:19.022Z"
   },
   {
    "duration": 9,
    "start_time": "2023-09-12T12:38:28.234Z"
   },
   {
    "duration": 9,
    "start_time": "2023-09-12T12:39:07.934Z"
   },
   {
    "duration": 19,
    "start_time": "2023-09-12T12:49:35.139Z"
   },
   {
    "duration": 31,
    "start_time": "2023-09-12T12:55:27.878Z"
   },
   {
    "duration": 22,
    "start_time": "2023-09-12T12:56:32.403Z"
   },
   {
    "duration": 12,
    "start_time": "2023-09-12T13:39:51.454Z"
   },
   {
    "duration": 10,
    "start_time": "2023-09-12T13:40:22.358Z"
   },
   {
    "duration": 8,
    "start_time": "2023-09-12T13:40:54.822Z"
   },
   {
    "duration": 13,
    "start_time": "2023-09-12T13:41:16.743Z"
   },
   {
    "duration": 16,
    "start_time": "2023-09-12T13:41:30.632Z"
   },
   {
    "duration": 79,
    "start_time": "2023-09-12T14:30:55.325Z"
   },
   {
    "duration": 7,
    "start_time": "2023-09-12T14:31:28.622Z"
   },
   {
    "duration": 153,
    "start_time": "2023-09-12T14:32:25.790Z"
   },
   {
    "duration": 6,
    "start_time": "2023-09-12T14:38:49.048Z"
   },
   {
    "duration": 7,
    "start_time": "2023-09-12T14:39:55.569Z"
   },
   {
    "duration": 17,
    "start_time": "2023-09-12T14:42:34.769Z"
   },
   {
    "duration": 8,
    "start_time": "2023-09-12T15:17:10.814Z"
   },
   {
    "duration": 14,
    "start_time": "2023-09-12T15:17:38.770Z"
   },
   {
    "duration": 28,
    "start_time": "2023-09-12T15:18:10.430Z"
   },
   {
    "duration": 15,
    "start_time": "2023-09-12T15:18:22.610Z"
   },
   {
    "duration": 15,
    "start_time": "2023-09-12T15:18:29.474Z"
   },
   {
    "duration": 8,
    "start_time": "2023-09-12T15:18:40.330Z"
   },
   {
    "duration": 7,
    "start_time": "2023-09-12T15:19:04.378Z"
   },
   {
    "duration": 17,
    "start_time": "2023-09-12T15:19:45.123Z"
   },
   {
    "duration": 16,
    "start_time": "2023-09-12T15:19:56.698Z"
   },
   {
    "duration": 20,
    "start_time": "2023-09-12T15:25:20.681Z"
   },
   {
    "duration": 17,
    "start_time": "2023-09-12T15:25:37.613Z"
   },
   {
    "duration": 18,
    "start_time": "2023-09-12T15:25:51.817Z"
   },
   {
    "duration": 8,
    "start_time": "2023-09-12T21:06:00.831Z"
   },
   {
    "duration": 11,
    "start_time": "2023-09-12T21:06:09.095Z"
   },
   {
    "duration": 12,
    "start_time": "2023-09-12T21:07:45.487Z"
   },
   {
    "duration": 11,
    "start_time": "2023-09-12T21:08:11.786Z"
   },
   {
    "duration": 11,
    "start_time": "2023-09-12T21:08:37.108Z"
   },
   {
    "duration": 7,
    "start_time": "2023-09-12T21:08:53.547Z"
   },
   {
    "duration": 6,
    "start_time": "2023-09-12T21:09:10.134Z"
   },
   {
    "duration": 8,
    "start_time": "2023-09-12T21:09:14.227Z"
   },
   {
    "duration": 9,
    "start_time": "2023-09-12T21:09:18.272Z"
   },
   {
    "duration": 7,
    "start_time": "2023-09-12T21:39:23.176Z"
   },
   {
    "duration": 10,
    "start_time": "2023-09-12T21:39:29.458Z"
   },
   {
    "duration": 10,
    "start_time": "2023-09-12T21:40:53.094Z"
   },
   {
    "duration": 456,
    "start_time": "2023-09-12T22:15:34.374Z"
   },
   {
    "duration": 21,
    "start_time": "2023-09-12T22:15:34.831Z"
   },
   {
    "duration": 16,
    "start_time": "2023-09-12T22:15:34.853Z"
   },
   {
    "duration": 9,
    "start_time": "2023-09-12T22:15:34.870Z"
   },
   {
    "duration": 57,
    "start_time": "2023-09-12T22:15:34.881Z"
   },
   {
    "duration": 3,
    "start_time": "2023-09-12T22:15:34.939Z"
   },
   {
    "duration": 14,
    "start_time": "2023-09-12T22:15:34.944Z"
   },
   {
    "duration": 9,
    "start_time": "2023-09-12T22:15:34.960Z"
   },
   {
    "duration": 10,
    "start_time": "2023-09-12T22:15:34.971Z"
   },
   {
    "duration": 4,
    "start_time": "2023-09-12T22:15:34.982Z"
   },
   {
    "duration": 54,
    "start_time": "2023-09-12T22:15:34.988Z"
   },
   {
    "duration": 13,
    "start_time": "2023-09-12T22:15:35.049Z"
   },
   {
    "duration": 12,
    "start_time": "2023-09-12T22:15:35.063Z"
   },
   {
    "duration": 47,
    "start_time": "2023-09-12T22:15:35.077Z"
   },
   {
    "duration": 55,
    "start_time": "2023-09-12T22:15:35.126Z"
   },
   {
    "duration": 17,
    "start_time": "2023-09-12T22:15:35.183Z"
   },
   {
    "duration": 10,
    "start_time": "2023-09-12T22:15:35.202Z"
   },
   {
    "duration": 44,
    "start_time": "2023-09-12T22:15:35.213Z"
   },
   {
    "duration": 32,
    "start_time": "2023-09-12T22:15:35.259Z"
   },
   {
    "duration": 18,
    "start_time": "2023-09-12T22:15:35.293Z"
   },
   {
    "duration": 31,
    "start_time": "2023-09-12T22:15:35.313Z"
   },
   {
    "duration": 10,
    "start_time": "2023-09-12T22:15:35.346Z"
   },
   {
    "duration": 16,
    "start_time": "2023-09-12T22:15:35.357Z"
   },
   {
    "duration": 9,
    "start_time": "2023-09-12T22:15:35.375Z"
   },
   {
    "duration": 20,
    "start_time": "2023-09-12T22:15:35.386Z"
   },
   {
    "duration": 41,
    "start_time": "2023-09-12T22:15:35.407Z"
   },
   {
    "duration": 26,
    "start_time": "2023-09-12T22:15:35.450Z"
   },
   {
    "duration": 26,
    "start_time": "2023-09-12T22:15:35.478Z"
   },
   {
    "duration": 35,
    "start_time": "2023-09-12T22:15:35.506Z"
   },
   {
    "duration": 24,
    "start_time": "2023-09-12T22:15:35.543Z"
   },
   {
    "duration": 72,
    "start_time": "2023-09-12T22:15:35.569Z"
   },
   {
    "duration": 49,
    "start_time": "2023-09-12T22:15:35.643Z"
   },
   {
    "duration": 11,
    "start_time": "2023-09-12T22:15:35.693Z"
   },
   {
    "duration": 52,
    "start_time": "2023-09-13T10:18:24.319Z"
   },
   {
    "duration": 823,
    "start_time": "2023-09-13T10:18:35.123Z"
   },
   {
    "duration": 24,
    "start_time": "2023-09-13T10:18:35.948Z"
   },
   {
    "duration": 57,
    "start_time": "2023-09-13T10:18:35.974Z"
   },
   {
    "duration": 18,
    "start_time": "2023-09-13T10:18:36.034Z"
   },
   {
    "duration": 65,
    "start_time": "2023-09-13T10:18:36.054Z"
   },
   {
    "duration": 4,
    "start_time": "2023-09-13T10:18:36.120Z"
   },
   {
    "duration": 23,
    "start_time": "2023-09-13T10:18:36.126Z"
   },
   {
    "duration": 5,
    "start_time": "2023-09-13T10:18:36.151Z"
   },
   {
    "duration": 13,
    "start_time": "2023-09-13T10:18:36.157Z"
   },
   {
    "duration": 11,
    "start_time": "2023-09-13T10:18:36.173Z"
   },
   {
    "duration": 63,
    "start_time": "2023-09-13T10:18:36.186Z"
   },
   {
    "duration": 11,
    "start_time": "2023-09-13T10:18:36.251Z"
   },
   {
    "duration": 12,
    "start_time": "2023-09-13T10:18:36.263Z"
   },
   {
    "duration": 20,
    "start_time": "2023-09-13T10:18:36.276Z"
   },
   {
    "duration": 29,
    "start_time": "2023-09-13T10:18:36.297Z"
   },
   {
    "duration": 28,
    "start_time": "2023-09-13T10:18:36.328Z"
   },
   {
    "duration": 4,
    "start_time": "2023-09-13T10:18:36.358Z"
   },
   {
    "duration": 44,
    "start_time": "2023-09-13T10:18:36.364Z"
   },
   {
    "duration": 27,
    "start_time": "2023-09-13T10:18:36.409Z"
   },
   {
    "duration": 11,
    "start_time": "2023-09-13T10:18:36.438Z"
   },
   {
    "duration": 34,
    "start_time": "2023-09-13T10:18:36.450Z"
   },
   {
    "duration": 8,
    "start_time": "2023-09-13T10:18:36.486Z"
   },
   {
    "duration": 16,
    "start_time": "2023-09-13T10:18:36.497Z"
   },
   {
    "duration": 13,
    "start_time": "2023-09-13T10:18:36.515Z"
   },
   {
    "duration": 39,
    "start_time": "2023-09-13T10:18:36.530Z"
   },
   {
    "duration": 25,
    "start_time": "2023-09-13T10:19:34.287Z"
   },
   {
    "duration": 44,
    "start_time": "2023-09-13T10:22:05.555Z"
   },
   {
    "duration": 33,
    "start_time": "2023-09-13T10:25:29.337Z"
   },
   {
    "duration": 13,
    "start_time": "2023-09-13T10:25:49.145Z"
   },
   {
    "duration": 14,
    "start_time": "2023-09-13T10:25:55.492Z"
   },
   {
    "duration": 34,
    "start_time": "2023-09-13T10:26:05.620Z"
   },
   {
    "duration": 2533,
    "start_time": "2023-09-13T10:28:21.084Z"
   },
   {
    "duration": 24,
    "start_time": "2023-09-13T10:28:32.872Z"
   },
   {
    "duration": 29,
    "start_time": "2023-09-13T10:28:45.808Z"
   },
   {
    "duration": 34,
    "start_time": "2023-09-13T10:29:57.216Z"
   },
   {
    "duration": 28,
    "start_time": "2023-09-13T10:30:27.384Z"
   },
   {
    "duration": 38,
    "start_time": "2023-09-13T10:30:52.620Z"
   },
   {
    "duration": 38,
    "start_time": "2023-09-13T10:31:01.080Z"
   },
   {
    "duration": 28,
    "start_time": "2023-09-13T10:31:08.409Z"
   },
   {
    "duration": 42,
    "start_time": "2023-09-13T10:31:17.116Z"
   },
   {
    "duration": 36,
    "start_time": "2023-09-13T10:31:23.628Z"
   },
   {
    "duration": 33,
    "start_time": "2023-09-13T10:34:02.670Z"
   },
   {
    "duration": 26,
    "start_time": "2023-09-13T10:34:11.508Z"
   },
   {
    "duration": 27,
    "start_time": "2023-09-13T10:35:43.148Z"
   },
   {
    "duration": 26,
    "start_time": "2023-09-13T10:36:47.988Z"
   },
   {
    "duration": 577,
    "start_time": "2023-09-13T10:37:13.057Z"
   },
   {
    "duration": 47,
    "start_time": "2023-09-13T10:55:55.021Z"
   },
   {
    "duration": 27,
    "start_time": "2023-09-13T10:56:01.117Z"
   },
   {
    "duration": 29,
    "start_time": "2023-09-13T10:57:31.763Z"
   },
   {
    "duration": 28,
    "start_time": "2023-09-13T10:57:41.569Z"
   },
   {
    "duration": 26,
    "start_time": "2023-09-13T11:00:39.578Z"
   },
   {
    "duration": 35,
    "start_time": "2023-09-13T11:01:03.337Z"
   },
   {
    "duration": 31,
    "start_time": "2023-09-13T11:01:16.842Z"
   },
   {
    "duration": 25,
    "start_time": "2023-09-13T11:01:20.894Z"
   },
   {
    "duration": 48,
    "start_time": "2023-09-14T09:07:26.264Z"
   },
   {
    "duration": 684,
    "start_time": "2023-09-14T09:08:29.748Z"
   },
   {
    "duration": 34,
    "start_time": "2023-09-14T09:08:30.435Z"
   },
   {
    "duration": 47,
    "start_time": "2023-09-14T09:08:30.472Z"
   },
   {
    "duration": 71,
    "start_time": "2023-09-14T09:08:30.521Z"
   },
   {
    "duration": 97,
    "start_time": "2023-09-14T09:08:30.595Z"
   },
   {
    "duration": 54,
    "start_time": "2023-09-14T09:08:30.694Z"
   },
   {
    "duration": 72,
    "start_time": "2023-09-14T09:08:30.750Z"
   },
   {
    "duration": 61,
    "start_time": "2023-09-14T09:08:30.824Z"
   },
   {
    "duration": 73,
    "start_time": "2023-09-14T09:08:30.887Z"
   },
   {
    "duration": 88,
    "start_time": "2023-09-14T09:08:30.961Z"
   },
   {
    "duration": 134,
    "start_time": "2023-09-14T09:08:31.051Z"
   },
   {
    "duration": 46,
    "start_time": "2023-09-14T09:08:31.186Z"
   },
   {
    "duration": 45,
    "start_time": "2023-09-14T09:08:31.234Z"
   },
   {
    "duration": 44,
    "start_time": "2023-09-14T09:08:31.282Z"
   },
   {
    "duration": 57,
    "start_time": "2023-09-14T09:08:31.328Z"
   },
   {
    "duration": 29,
    "start_time": "2023-09-14T09:08:31.387Z"
   },
   {
    "duration": 14,
    "start_time": "2023-09-14T09:08:31.418Z"
   },
   {
    "duration": 50,
    "start_time": "2023-09-14T09:08:31.434Z"
   },
   {
    "duration": 39,
    "start_time": "2023-09-14T09:08:31.486Z"
   },
   {
    "duration": 14,
    "start_time": "2023-09-14T09:08:31.527Z"
   },
   {
    "duration": 49,
    "start_time": "2023-09-14T09:08:31.542Z"
   },
   {
    "duration": 48,
    "start_time": "2023-09-14T09:08:31.592Z"
   },
   {
    "duration": 31,
    "start_time": "2023-09-14T09:08:31.642Z"
   },
   {
    "duration": 38,
    "start_time": "2023-09-14T09:08:31.674Z"
   },
   {
    "duration": 973,
    "start_time": "2023-09-14T09:08:38.186Z"
   },
   {
    "duration": 24,
    "start_time": "2023-09-14T09:09:05.687Z"
   },
   {
    "duration": 26,
    "start_time": "2023-09-14T09:09:16.740Z"
   },
   {
    "duration": 32,
    "start_time": "2023-09-14T09:09:25.963Z"
   },
   {
    "duration": 24,
    "start_time": "2023-09-14T09:15:46.646Z"
   },
   {
    "duration": 24,
    "start_time": "2023-09-14T09:15:54.881Z"
   },
   {
    "duration": 190,
    "start_time": "2023-09-14T09:30:51.828Z"
   },
   {
    "duration": 28,
    "start_time": "2023-09-14T09:43:32.333Z"
   },
   {
    "duration": 30,
    "start_time": "2023-09-14T09:45:23.520Z"
   },
   {
    "duration": 34,
    "start_time": "2023-09-14T09:46:06.472Z"
   },
   {
    "duration": 37,
    "start_time": "2023-09-14T09:48:26.047Z"
   },
   {
    "duration": 29,
    "start_time": "2023-09-14T09:49:20.295Z"
   },
   {
    "duration": 94,
    "start_time": "2023-09-14T13:18:22.274Z"
   },
   {
    "duration": 7,
    "start_time": "2023-09-14T13:21:23.217Z"
   },
   {
    "duration": 6,
    "start_time": "2023-09-14T13:21:54.839Z"
   },
   {
    "duration": 13,
    "start_time": "2023-09-14T13:29:15.664Z"
   },
   {
    "duration": 9,
    "start_time": "2023-09-14T13:29:27.091Z"
   },
   {
    "duration": 7,
    "start_time": "2023-09-14T13:29:46.679Z"
   },
   {
    "duration": 7,
    "start_time": "2023-09-14T13:31:47.543Z"
   },
   {
    "duration": 7,
    "start_time": "2023-09-14T13:31:57.783Z"
   },
   {
    "duration": 7,
    "start_time": "2023-09-14T13:45:50.637Z"
   },
   {
    "duration": 7,
    "start_time": "2023-09-14T13:47:18.093Z"
   },
   {
    "duration": 766,
    "start_time": "2023-09-15T12:29:26.897Z"
   },
   {
    "duration": 21,
    "start_time": "2023-09-15T12:29:27.665Z"
   },
   {
    "duration": 164,
    "start_time": "2023-09-15T12:29:27.688Z"
   },
   {
    "duration": 112,
    "start_time": "2023-09-15T12:29:27.857Z"
   },
   {
    "duration": 198,
    "start_time": "2023-09-15T12:29:27.970Z"
   },
   {
    "duration": 4,
    "start_time": "2023-09-15T12:29:28.170Z"
   },
   {
    "duration": 30,
    "start_time": "2023-09-15T12:29:28.176Z"
   },
   {
    "duration": 9,
    "start_time": "2023-09-15T12:29:28.208Z"
   },
   {
    "duration": 43,
    "start_time": "2023-09-15T12:29:28.219Z"
   },
   {
    "duration": 20,
    "start_time": "2023-09-15T12:29:28.264Z"
   },
   {
    "duration": 96,
    "start_time": "2023-09-15T12:29:28.285Z"
   },
   {
    "duration": 10,
    "start_time": "2023-09-15T12:29:28.382Z"
   },
   {
    "duration": 72,
    "start_time": "2023-09-15T12:29:28.393Z"
   },
   {
    "duration": 53,
    "start_time": "2023-09-15T12:29:28.467Z"
   },
   {
    "duration": 88,
    "start_time": "2023-09-15T12:29:28.522Z"
   },
   {
    "duration": 30,
    "start_time": "2023-09-15T12:29:28.612Z"
   },
   {
    "duration": 13,
    "start_time": "2023-09-15T12:29:28.653Z"
   },
   {
    "duration": 30,
    "start_time": "2023-09-15T12:29:28.667Z"
   },
   {
    "duration": 22,
    "start_time": "2023-09-15T12:29:28.699Z"
   },
   {
    "duration": 26,
    "start_time": "2023-09-15T12:29:28.722Z"
   },
   {
    "duration": 40,
    "start_time": "2023-09-15T12:29:28.754Z"
   },
   {
    "duration": 22,
    "start_time": "2023-09-15T12:29:28.795Z"
   },
   {
    "duration": 201,
    "start_time": "2023-09-15T12:29:28.819Z"
   },
   {
    "duration": 36,
    "start_time": "2023-09-15T12:29:29.022Z"
   },
   {
    "duration": 38,
    "start_time": "2023-09-15T12:29:29.060Z"
   },
   {
    "duration": 6,
    "start_time": "2023-09-15T12:29:29.099Z"
   },
   {
    "duration": 46,
    "start_time": "2023-09-15T12:29:29.106Z"
   },
   {
    "duration": 11,
    "start_time": "2023-09-15T12:29:29.162Z"
   },
   {
    "duration": 36,
    "start_time": "2023-09-15T12:29:29.175Z"
   },
   {
    "duration": 207,
    "start_time": "2023-09-15T12:29:29.214Z"
   },
   {
    "duration": 50,
    "start_time": "2023-09-15T12:29:29.423Z"
   },
   {
    "duration": 42,
    "start_time": "2023-09-15T12:29:29.475Z"
   },
   {
    "duration": 22,
    "start_time": "2023-09-15T12:29:29.519Z"
   },
   {
    "duration": 15,
    "start_time": "2023-09-15T12:29:29.550Z"
   },
   {
    "duration": 238,
    "start_time": "2023-09-15T12:29:29.566Z"
   },
   {
    "duration": 87,
    "start_time": "2023-09-15T12:29:29.806Z"
   },
   {
    "duration": 46,
    "start_time": "2023-09-16T06:48:35.384Z"
   },
   {
    "duration": 647,
    "start_time": "2023-09-16T06:48:41.184Z"
   },
   {
    "duration": 22,
    "start_time": "2023-09-16T06:48:41.833Z"
   },
   {
    "duration": 15,
    "start_time": "2023-09-16T06:48:41.857Z"
   },
   {
    "duration": 9,
    "start_time": "2023-09-16T06:48:41.874Z"
   },
   {
    "duration": 47,
    "start_time": "2023-09-16T06:48:41.885Z"
   },
   {
    "duration": 11,
    "start_time": "2023-09-16T06:48:41.934Z"
   },
   {
    "duration": 21,
    "start_time": "2023-09-16T06:48:41.946Z"
   },
   {
    "duration": 8,
    "start_time": "2023-09-16T06:48:41.968Z"
   },
   {
    "duration": 12,
    "start_time": "2023-09-16T06:48:41.978Z"
   },
   {
    "duration": 4,
    "start_time": "2023-09-16T06:48:41.993Z"
   },
   {
    "duration": 46,
    "start_time": "2023-09-16T06:48:41.998Z"
   },
   {
    "duration": 10,
    "start_time": "2023-09-16T06:48:42.046Z"
   },
   {
    "duration": 6,
    "start_time": "2023-09-16T06:48:42.058Z"
   },
   {
    "duration": 13,
    "start_time": "2023-09-16T06:48:42.065Z"
   },
   {
    "duration": 20,
    "start_time": "2023-09-16T06:48:42.079Z"
   },
   {
    "duration": 49,
    "start_time": "2023-09-16T06:48:42.101Z"
   },
   {
    "duration": 3,
    "start_time": "2023-09-16T06:48:42.152Z"
   },
   {
    "duration": 14,
    "start_time": "2023-09-16T06:48:42.156Z"
   },
   {
    "duration": 5,
    "start_time": "2023-09-16T06:48:42.171Z"
   },
   {
    "duration": 3,
    "start_time": "2023-09-16T06:48:42.178Z"
   },
   {
    "duration": 28,
    "start_time": "2023-09-16T06:48:42.183Z"
   },
   {
    "duration": 4,
    "start_time": "2023-09-16T06:48:42.213Z"
   },
   {
    "duration": 4,
    "start_time": "2023-09-16T06:48:42.219Z"
   },
   {
    "duration": 7,
    "start_time": "2023-09-16T06:48:42.243Z"
   },
   {
    "duration": 29,
    "start_time": "2023-09-16T06:48:42.251Z"
   },
   {
    "duration": 5,
    "start_time": "2023-09-16T06:48:42.281Z"
   },
   {
    "duration": 13,
    "start_time": "2023-09-16T06:48:42.287Z"
   },
   {
    "duration": 18,
    "start_time": "2023-09-16T06:48:42.303Z"
   },
   {
    "duration": 45,
    "start_time": "2023-09-16T06:48:42.322Z"
   },
   {
    "duration": 5,
    "start_time": "2023-09-16T06:48:42.369Z"
   },
   {
    "duration": 14,
    "start_time": "2023-09-16T06:48:42.375Z"
   },
   {
    "duration": 8,
    "start_time": "2023-09-16T06:48:42.391Z"
   },
   {
    "duration": 6,
    "start_time": "2023-09-16T06:48:42.400Z"
   },
   {
    "duration": 37,
    "start_time": "2023-09-16T06:48:42.407Z"
   },
   {
    "duration": 15,
    "start_time": "2023-09-16T06:48:42.446Z"
   },
   {
    "duration": 33,
    "start_time": "2023-09-16T06:48:42.463Z"
   },
   {
    "duration": 4,
    "start_time": "2023-09-16T06:48:49.056Z"
   },
   {
    "duration": 4,
    "start_time": "2023-09-16T06:49:10.344Z"
   },
   {
    "duration": 5,
    "start_time": "2023-09-16T06:49:19.661Z"
   },
   {
    "duration": 4,
    "start_time": "2023-09-16T06:49:38.184Z"
   },
   {
    "duration": 5,
    "start_time": "2023-09-16T06:50:02.036Z"
   },
   {
    "duration": 4,
    "start_time": "2023-09-16T06:50:18.348Z"
   },
   {
    "duration": 6,
    "start_time": "2023-09-16T06:53:26.525Z"
   },
   {
    "duration": 6,
    "start_time": "2023-09-16T06:53:47.201Z"
   },
   {
    "duration": 7,
    "start_time": "2023-09-16T06:55:46.773Z"
   },
   {
    "duration": 7,
    "start_time": "2023-09-16T06:56:13.462Z"
   },
   {
    "duration": 8,
    "start_time": "2023-09-16T07:02:38.098Z"
   },
   {
    "duration": 10,
    "start_time": "2023-09-16T07:05:10.015Z"
   },
   {
    "duration": 31,
    "start_time": "2023-09-16T07:05:20.988Z"
   },
   {
    "duration": 12,
    "start_time": "2023-09-16T07:05:26.300Z"
   },
   {
    "duration": 14,
    "start_time": "2023-09-16T07:05:31.783Z"
   },
   {
    "duration": 28,
    "start_time": "2023-09-16T07:06:05.460Z"
   },
   {
    "duration": 80,
    "start_time": "2023-09-16T07:06:13.956Z"
   },
   {
    "duration": 15,
    "start_time": "2023-09-16T07:06:14.038Z"
   },
   {
    "duration": 37,
    "start_time": "2023-09-16T07:06:14.054Z"
   },
   {
    "duration": 21,
    "start_time": "2023-09-16T07:06:14.092Z"
   },
   {
    "duration": 52,
    "start_time": "2023-09-16T07:06:14.116Z"
   },
   {
    "duration": 3,
    "start_time": "2023-09-16T07:06:14.170Z"
   },
   {
    "duration": 20,
    "start_time": "2023-09-16T07:06:14.174Z"
   },
   {
    "duration": 24,
    "start_time": "2023-09-16T07:06:14.195Z"
   },
   {
    "duration": 29,
    "start_time": "2023-09-16T07:06:14.220Z"
   },
   {
    "duration": 9,
    "start_time": "2023-09-16T07:06:14.250Z"
   },
   {
    "duration": 51,
    "start_time": "2023-09-16T07:06:14.261Z"
   },
   {
    "duration": 11,
    "start_time": "2023-09-16T07:06:14.314Z"
   },
   {
    "duration": 31,
    "start_time": "2023-09-16T07:06:14.327Z"
   },
   {
    "duration": 47,
    "start_time": "2023-09-16T07:06:14.362Z"
   },
   {
    "duration": 46,
    "start_time": "2023-09-16T07:06:14.411Z"
   },
   {
    "duration": 19,
    "start_time": "2023-09-16T07:06:14.459Z"
   },
   {
    "duration": 5,
    "start_time": "2023-09-16T07:06:14.480Z"
   },
   {
    "duration": 45,
    "start_time": "2023-09-16T07:06:14.486Z"
   },
   {
    "duration": 17,
    "start_time": "2023-09-16T07:06:14.533Z"
   },
   {
    "duration": 22,
    "start_time": "2023-09-16T07:06:14.552Z"
   },
   {
    "duration": 28,
    "start_time": "2023-09-16T07:06:14.576Z"
   },
   {
    "duration": 23,
    "start_time": "2023-09-16T07:06:14.606Z"
   },
   {
    "duration": 24,
    "start_time": "2023-09-16T07:06:14.631Z"
   },
   {
    "duration": 31,
    "start_time": "2023-09-16T07:06:14.656Z"
   },
   {
    "duration": 32,
    "start_time": "2023-09-16T07:06:14.689Z"
   },
   {
    "duration": 13,
    "start_time": "2023-09-16T07:06:14.722Z"
   },
   {
    "duration": 31,
    "start_time": "2023-09-16T07:06:14.736Z"
   },
   {
    "duration": 21,
    "start_time": "2023-09-16T07:06:14.768Z"
   },
   {
    "duration": 43,
    "start_time": "2023-09-16T07:06:14.790Z"
   },
   {
    "duration": 5,
    "start_time": "2023-09-16T07:06:14.834Z"
   },
   {
    "duration": 15,
    "start_time": "2023-09-16T07:06:14.841Z"
   },
   {
    "duration": 16,
    "start_time": "2023-09-16T07:06:14.857Z"
   },
   {
    "duration": 10,
    "start_time": "2023-09-16T07:06:14.875Z"
   },
   {
    "duration": 7,
    "start_time": "2023-09-16T07:06:14.887Z"
   },
   {
    "duration": 7,
    "start_time": "2023-09-16T07:06:14.896Z"
   },
   {
    "duration": 38,
    "start_time": "2023-09-16T07:06:14.904Z"
   },
   {
    "duration": 20,
    "start_time": "2023-09-16T07:06:14.944Z"
   },
   {
    "duration": 3,
    "start_time": "2023-09-16T07:07:33.903Z"
   },
   {
    "duration": 4,
    "start_time": "2023-09-16T07:07:59.956Z"
   },
   {
    "duration": 8,
    "start_time": "2023-09-16T07:08:26.324Z"
   },
   {
    "duration": 10,
    "start_time": "2023-09-16T07:08:35.120Z"
   },
   {
    "duration": 85,
    "start_time": "2023-09-16T07:09:39.545Z"
   },
   {
    "duration": 15,
    "start_time": "2023-09-16T07:09:39.631Z"
   },
   {
    "duration": 26,
    "start_time": "2023-09-16T07:09:39.647Z"
   },
   {
    "duration": 9,
    "start_time": "2023-09-16T07:09:39.675Z"
   },
   {
    "duration": 32,
    "start_time": "2023-09-16T07:09:39.686Z"
   },
   {
    "duration": 3,
    "start_time": "2023-09-16T07:09:39.720Z"
   },
   {
    "duration": 20,
    "start_time": "2023-09-16T07:09:39.724Z"
   },
   {
    "duration": 3,
    "start_time": "2023-09-16T07:09:39.746Z"
   },
   {
    "duration": 5,
    "start_time": "2023-09-16T07:09:39.751Z"
   },
   {
    "duration": 8,
    "start_time": "2023-09-16T07:09:39.758Z"
   },
   {
    "duration": 37,
    "start_time": "2023-09-16T07:09:39.767Z"
   },
   {
    "duration": 15,
    "start_time": "2023-09-16T07:09:39.806Z"
   },
   {
    "duration": 22,
    "start_time": "2023-09-16T07:09:39.822Z"
   },
   {
    "duration": 10,
    "start_time": "2023-09-16T07:09:39.848Z"
   },
   {
    "duration": 23,
    "start_time": "2023-09-16T07:09:39.859Z"
   },
   {
    "duration": 15,
    "start_time": "2023-09-16T07:09:39.883Z"
   },
   {
    "duration": 10,
    "start_time": "2023-09-16T07:09:39.900Z"
   },
   {
    "duration": 12,
    "start_time": "2023-09-16T07:09:39.911Z"
   },
   {
    "duration": 20,
    "start_time": "2023-09-16T07:09:39.924Z"
   },
   {
    "duration": 2,
    "start_time": "2023-09-16T07:09:39.946Z"
   },
   {
    "duration": 14,
    "start_time": "2023-09-16T07:09:39.950Z"
   },
   {
    "duration": 5,
    "start_time": "2023-09-16T07:09:39.965Z"
   },
   {
    "duration": 5,
    "start_time": "2023-09-16T07:09:39.971Z"
   },
   {
    "duration": 7,
    "start_time": "2023-09-16T07:09:39.978Z"
   },
   {
    "duration": 61,
    "start_time": "2023-09-16T07:09:39.986Z"
   },
   {
    "duration": 71,
    "start_time": "2023-09-16T07:09:40.049Z"
   },
   {
    "duration": 13,
    "start_time": "2023-09-16T07:09:40.121Z"
   },
   {
    "duration": 12,
    "start_time": "2023-09-16T07:09:40.135Z"
   },
   {
    "duration": 28,
    "start_time": "2023-09-16T07:09:40.148Z"
   },
   {
    "duration": 4,
    "start_time": "2023-09-16T07:09:40.178Z"
   },
   {
    "duration": 18,
    "start_time": "2023-09-16T07:09:40.183Z"
   },
   {
    "duration": 22,
    "start_time": "2023-09-16T07:09:40.202Z"
   },
   {
    "duration": 20,
    "start_time": "2023-09-16T07:09:40.226Z"
   },
   {
    "duration": 26,
    "start_time": "2023-09-16T07:09:40.247Z"
   },
   {
    "duration": 7,
    "start_time": "2023-09-16T07:09:40.274Z"
   },
   {
    "duration": 28,
    "start_time": "2023-09-16T07:09:40.282Z"
   },
   {
    "duration": 20,
    "start_time": "2023-09-16T07:11:01.929Z"
   },
   {
    "duration": 13,
    "start_time": "2023-09-16T07:11:29.549Z"
   },
   {
    "duration": 22,
    "start_time": "2023-09-16T07:33:57.063Z"
   },
   {
    "duration": 17,
    "start_time": "2023-09-16T07:34:14.195Z"
   },
   {
    "duration": 5,
    "start_time": "2023-09-16T07:34:23.419Z"
   },
   {
    "duration": 13,
    "start_time": "2023-09-16T07:36:30.639Z"
   },
   {
    "duration": 17,
    "start_time": "2023-09-16T07:37:13.691Z"
   },
   {
    "duration": 8,
    "start_time": "2023-09-16T07:37:30.524Z"
   },
   {
    "duration": 10,
    "start_time": "2023-09-16T07:37:40.464Z"
   },
   {
    "duration": 11,
    "start_time": "2023-09-16T07:38:31.250Z"
   },
   {
    "duration": 5,
    "start_time": "2023-09-16T07:38:45.271Z"
   },
   {
    "duration": 15,
    "start_time": "2023-09-16T07:39:14.739Z"
   },
   {
    "duration": 9,
    "start_time": "2023-09-16T07:39:42.052Z"
   },
   {
    "duration": 5,
    "start_time": "2023-09-16T07:40:06.167Z"
   },
   {
    "duration": 6,
    "start_time": "2023-09-16T07:40:19.089Z"
   },
   {
    "duration": 5,
    "start_time": "2023-09-16T07:40:45.813Z"
   },
   {
    "duration": 7,
    "start_time": "2023-09-16T07:41:34.633Z"
   },
   {
    "duration": 15,
    "start_time": "2023-09-16T08:08:06.164Z"
   },
   {
    "duration": 14,
    "start_time": "2023-09-16T08:08:23.171Z"
   },
   {
    "duration": 11,
    "start_time": "2023-09-16T08:08:30.418Z"
   },
   {
    "duration": 14,
    "start_time": "2023-09-16T08:09:21.267Z"
   },
   {
    "duration": 539,
    "start_time": "2023-09-17T08:20:15.831Z"
   },
   {
    "duration": 20,
    "start_time": "2023-09-17T08:20:16.372Z"
   },
   {
    "duration": 14,
    "start_time": "2023-09-17T08:20:16.393Z"
   },
   {
    "duration": 9,
    "start_time": "2023-09-17T08:20:16.409Z"
   },
   {
    "duration": 42,
    "start_time": "2023-09-17T08:20:16.419Z"
   },
   {
    "duration": 3,
    "start_time": "2023-09-17T08:20:16.463Z"
   },
   {
    "duration": 9,
    "start_time": "2023-09-17T08:20:16.467Z"
   },
   {
    "duration": 3,
    "start_time": "2023-09-17T08:20:16.478Z"
   },
   {
    "duration": 22,
    "start_time": "2023-09-17T08:20:16.482Z"
   },
   {
    "duration": 4,
    "start_time": "2023-09-17T08:20:16.506Z"
   },
   {
    "duration": 40,
    "start_time": "2023-09-17T08:20:16.511Z"
   },
   {
    "duration": 9,
    "start_time": "2023-09-17T08:20:16.552Z"
   },
   {
    "duration": 10,
    "start_time": "2023-09-17T08:20:16.562Z"
   },
   {
    "duration": 28,
    "start_time": "2023-09-17T08:20:16.574Z"
   },
   {
    "duration": 21,
    "start_time": "2023-09-17T08:20:16.603Z"
   },
   {
    "duration": 24,
    "start_time": "2023-09-17T08:20:16.625Z"
   },
   {
    "duration": 3,
    "start_time": "2023-09-17T08:20:16.651Z"
   },
   {
    "duration": 18,
    "start_time": "2023-09-17T08:20:16.656Z"
   },
   {
    "duration": 7,
    "start_time": "2023-09-17T08:20:16.676Z"
   },
   {
    "duration": 6,
    "start_time": "2023-09-17T08:20:16.684Z"
   },
   {
    "duration": 11,
    "start_time": "2023-09-17T08:20:16.691Z"
   },
   {
    "duration": 7,
    "start_time": "2023-09-17T08:20:16.703Z"
   },
   {
    "duration": 17,
    "start_time": "2023-09-17T08:20:16.711Z"
   },
   {
    "duration": 10,
    "start_time": "2023-09-17T08:20:16.729Z"
   },
   {
    "duration": 26,
    "start_time": "2023-09-17T08:20:16.740Z"
   },
   {
    "duration": 5,
    "start_time": "2023-09-17T08:20:16.767Z"
   },
   {
    "duration": 5,
    "start_time": "2023-09-17T08:20:16.774Z"
   },
   {
    "duration": 8,
    "start_time": "2023-09-17T08:20:16.782Z"
   },
   {
    "duration": 30,
    "start_time": "2023-09-17T08:20:16.791Z"
   },
   {
    "duration": 26,
    "start_time": "2023-09-17T08:20:16.822Z"
   },
   {
    "duration": 6,
    "start_time": "2023-09-17T08:20:16.849Z"
   },
   {
    "duration": 8,
    "start_time": "2023-09-17T08:20:16.856Z"
   },
   {
    "duration": 26,
    "start_time": "2023-09-17T08:20:16.865Z"
   },
   {
    "duration": 7,
    "start_time": "2023-09-17T08:20:16.892Z"
   },
   {
    "duration": 7,
    "start_time": "2023-09-17T08:20:16.900Z"
   },
   {
    "duration": 42,
    "start_time": "2023-09-17T08:20:16.908Z"
   },
   {
    "duration": 8,
    "start_time": "2023-09-17T08:20:20.087Z"
   },
   {
    "duration": 5,
    "start_time": "2023-09-17T08:20:50.903Z"
   },
   {
    "duration": 5,
    "start_time": "2023-09-17T08:21:08.724Z"
   },
   {
    "duration": 8,
    "start_time": "2023-09-17T08:25:14.114Z"
   },
   {
    "duration": 7,
    "start_time": "2023-09-17T08:25:29.126Z"
   },
   {
    "duration": 5,
    "start_time": "2023-09-17T08:34:29.258Z"
   },
   {
    "duration": 7,
    "start_time": "2023-09-17T08:35:30.493Z"
   },
   {
    "duration": 5,
    "start_time": "2023-09-17T08:35:56.442Z"
   },
   {
    "duration": 5,
    "start_time": "2023-09-17T08:36:18.890Z"
   },
   {
    "duration": 6,
    "start_time": "2023-09-17T08:37:00.509Z"
   },
   {
    "duration": 6,
    "start_time": "2023-09-17T08:37:50.154Z"
   },
   {
    "duration": 5,
    "start_time": "2023-09-17T08:37:57.121Z"
   },
   {
    "duration": 6,
    "start_time": "2023-09-17T08:38:09.222Z"
   },
   {
    "duration": 8,
    "start_time": "2023-09-17T08:39:18.922Z"
   },
   {
    "duration": 5,
    "start_time": "2023-09-17T08:48:03.017Z"
   },
   {
    "duration": 6,
    "start_time": "2023-09-17T08:48:50.701Z"
   },
   {
    "duration": 6,
    "start_time": "2023-09-17T08:50:03.508Z"
   },
   {
    "duration": 6,
    "start_time": "2023-09-17T08:50:36.780Z"
   },
   {
    "duration": 5,
    "start_time": "2023-09-17T08:50:49.716Z"
   },
   {
    "duration": 6,
    "start_time": "2023-09-17T08:50:55.084Z"
   },
   {
    "duration": 66,
    "start_time": "2023-09-17T08:55:31.526Z"
   },
   {
    "duration": 9,
    "start_time": "2023-09-17T20:07:25.015Z"
   },
   {
    "duration": 10,
    "start_time": "2023-09-17T20:07:50.799Z"
   },
   {
    "duration": 10,
    "start_time": "2023-09-17T20:08:53.999Z"
   },
   {
    "duration": 8,
    "start_time": "2023-09-17T20:10:20.614Z"
   },
   {
    "duration": 11,
    "start_time": "2023-09-17T20:11:04.727Z"
   },
   {
    "duration": 11,
    "start_time": "2023-09-17T20:11:45.359Z"
   },
   {
    "duration": 12,
    "start_time": "2023-09-17T20:11:59.183Z"
   },
   {
    "duration": 12,
    "start_time": "2023-09-17T20:12:09.075Z"
   },
   {
    "duration": 13,
    "start_time": "2023-09-17T20:12:14.523Z"
   },
   {
    "duration": 5,
    "start_time": "2023-09-17T20:13:35.587Z"
   },
   {
    "duration": 7,
    "start_time": "2023-09-17T20:15:23.487Z"
   },
   {
    "duration": 11,
    "start_time": "2023-09-17T20:16:09.536Z"
   },
   {
    "duration": 7,
    "start_time": "2023-09-17T20:16:16.610Z"
   },
   {
    "duration": 73,
    "start_time": "2023-09-26T14:26:52.403Z"
   },
   {
    "duration": 756,
    "start_time": "2023-09-26T14:27:00.658Z"
   },
   {
    "duration": 35,
    "start_time": "2023-09-26T14:27:01.416Z"
   },
   {
    "duration": 18,
    "start_time": "2023-09-26T14:27:01.459Z"
   },
   {
    "duration": 48,
    "start_time": "2023-09-26T14:27:01.479Z"
   },
   {
    "duration": 108,
    "start_time": "2023-09-26T14:27:01.529Z"
   },
   {
    "duration": 28,
    "start_time": "2023-09-26T14:27:01.639Z"
   },
   {
    "duration": 95,
    "start_time": "2023-09-26T14:27:01.668Z"
   },
   {
    "duration": 55,
    "start_time": "2023-09-26T14:27:01.765Z"
   },
   {
    "duration": 148,
    "start_time": "2023-09-26T14:27:01.822Z"
   },
   {
    "duration": 56,
    "start_time": "2023-09-26T14:27:01.972Z"
   },
   {
    "duration": 91,
    "start_time": "2023-09-26T14:27:02.029Z"
   },
   {
    "duration": 129,
    "start_time": "2023-09-26T14:27:02.122Z"
   },
   {
    "duration": 64,
    "start_time": "2023-09-26T14:27:02.253Z"
   },
   {
    "duration": 131,
    "start_time": "2023-09-26T14:27:02.320Z"
   },
   {
    "duration": 69,
    "start_time": "2023-09-26T14:27:02.457Z"
   },
   {
    "duration": 43,
    "start_time": "2023-09-26T14:27:02.527Z"
   },
   {
    "duration": 42,
    "start_time": "2023-09-26T14:27:02.572Z"
   },
   {
    "duration": 52,
    "start_time": "2023-09-26T14:27:02.617Z"
   },
   {
    "duration": 55,
    "start_time": "2023-09-26T14:27:02.671Z"
   },
   {
    "duration": 95,
    "start_time": "2023-09-26T14:27:02.727Z"
   },
   {
    "duration": 137,
    "start_time": "2023-09-26T14:27:02.824Z"
   },
   {
    "duration": 91,
    "start_time": "2023-09-26T14:27:02.963Z"
   },
   {
    "duration": 80,
    "start_time": "2023-09-26T14:27:03.055Z"
   },
   {
    "duration": 46,
    "start_time": "2023-09-26T14:27:03.137Z"
   },
   {
    "duration": 63,
    "start_time": "2023-09-26T14:27:03.185Z"
   },
   {
    "duration": 15,
    "start_time": "2023-09-26T14:27:03.250Z"
   },
   {
    "duration": 29,
    "start_time": "2023-09-26T14:27:03.267Z"
   },
   {
    "duration": 48,
    "start_time": "2023-09-26T14:27:03.299Z"
   },
   {
    "duration": 45,
    "start_time": "2023-09-26T14:27:03.356Z"
   },
   {
    "duration": 24,
    "start_time": "2023-09-26T14:27:03.403Z"
   },
   {
    "duration": 33,
    "start_time": "2023-09-26T14:27:03.428Z"
   },
   {
    "duration": 32,
    "start_time": "2023-09-26T14:27:03.463Z"
   },
   {
    "duration": 11,
    "start_time": "2023-09-26T14:27:10.099Z"
   },
   {
    "duration": 154,
    "start_time": "2023-09-26T14:31:15.796Z"
   },
   {
    "duration": 139,
    "start_time": "2023-09-26T14:31:25.280Z"
   },
   {
    "duration": 133,
    "start_time": "2023-09-26T14:31:41.766Z"
   },
   {
    "duration": 11,
    "start_time": "2023-09-26T14:32:41.658Z"
   },
   {
    "duration": 12,
    "start_time": "2023-09-26T14:32:58.400Z"
   },
   {
    "duration": 11,
    "start_time": "2023-09-26T14:33:31.360Z"
   },
   {
    "duration": 8,
    "start_time": "2023-09-26T14:45:15.466Z"
   },
   {
    "duration": 355,
    "start_time": "2023-09-26T14:45:19.584Z"
   },
   {
    "duration": 7,
    "start_time": "2023-09-26T14:45:28.253Z"
   },
   {
    "duration": 105,
    "start_time": "2023-09-26T14:47:52.558Z"
   },
   {
    "duration": 28,
    "start_time": "2023-09-26T14:49:07.402Z"
   },
   {
    "duration": 31,
    "start_time": "2023-09-26T14:49:57.602Z"
   },
   {
    "duration": 27,
    "start_time": "2023-09-26T15:01:18.414Z"
   },
   {
    "duration": 29,
    "start_time": "2023-09-26T15:01:28.017Z"
   },
   {
    "duration": 1955,
    "start_time": "2023-09-26T15:04:02.790Z"
   },
   {
    "duration": 2033,
    "start_time": "2023-09-26T15:04:38.861Z"
   },
   {
    "duration": 6,
    "start_time": "2023-09-26T15:04:50.509Z"
   },
   {
    "duration": 11,
    "start_time": "2023-09-26T15:05:08.726Z"
   },
   {
    "duration": 6,
    "start_time": "2023-09-26T15:05:39.705Z"
   },
   {
    "duration": 2020,
    "start_time": "2023-09-26T15:05:50.093Z"
   },
   {
    "duration": 10,
    "start_time": "2023-09-26T15:06:03.451Z"
   },
   {
    "duration": 5,
    "start_time": "2023-09-26T15:09:49.990Z"
   },
   {
    "duration": 8,
    "start_time": "2023-09-26T15:10:01.802Z"
   },
   {
    "duration": 13,
    "start_time": "2023-09-26T15:10:49.640Z"
   },
   {
    "duration": 9,
    "start_time": "2023-09-26T15:11:08.543Z"
   },
   {
    "duration": 7,
    "start_time": "2023-09-26T15:11:18.979Z"
   },
   {
    "duration": 8,
    "start_time": "2023-09-26T15:19:41.057Z"
   },
   {
    "duration": 28,
    "start_time": "2023-09-26T15:20:31.010Z"
   },
   {
    "duration": 16,
    "start_time": "2023-09-26T15:21:52.091Z"
   },
   {
    "duration": 9,
    "start_time": "2023-09-26T15:22:15.102Z"
   },
   {
    "duration": 8,
    "start_time": "2023-09-26T15:22:27.539Z"
   },
   {
    "duration": 16,
    "start_time": "2023-09-26T15:22:30.178Z"
   },
   {
    "duration": 7,
    "start_time": "2023-09-26T15:22:38.219Z"
   },
   {
    "duration": 8,
    "start_time": "2023-09-26T15:22:52.379Z"
   },
   {
    "duration": 9,
    "start_time": "2023-09-26T15:22:57.907Z"
   },
   {
    "duration": 27,
    "start_time": "2023-09-26T15:23:04.008Z"
   },
   {
    "duration": 22,
    "start_time": "2023-09-26T15:29:42.129Z"
   },
   {
    "duration": 10,
    "start_time": "2023-09-26T15:30:24.429Z"
   },
   {
    "duration": 8,
    "start_time": "2023-09-26T15:30:28.429Z"
   },
   {
    "duration": 27,
    "start_time": "2023-09-26T15:30:30.823Z"
   },
   {
    "duration": 23,
    "start_time": "2023-09-26T15:30:33.202Z"
   },
   {
    "duration": 87,
    "start_time": "2023-09-26T17:15:06.833Z"
   },
   {
    "duration": 21,
    "start_time": "2023-09-26T17:15:06.922Z"
   },
   {
    "duration": 43,
    "start_time": "2023-09-26T17:15:06.945Z"
   },
   {
    "duration": 30,
    "start_time": "2023-09-26T17:15:06.991Z"
   },
   {
    "duration": 68,
    "start_time": "2023-09-26T17:15:07.023Z"
   },
   {
    "duration": 3,
    "start_time": "2023-09-26T17:15:07.093Z"
   },
   {
    "duration": 31,
    "start_time": "2023-09-26T17:15:07.098Z"
   },
   {
    "duration": 31,
    "start_time": "2023-09-26T17:15:07.131Z"
   },
   {
    "duration": 45,
    "start_time": "2023-09-26T17:15:07.164Z"
   },
   {
    "duration": 22,
    "start_time": "2023-09-26T17:15:07.213Z"
   },
   {
    "duration": 83,
    "start_time": "2023-09-26T17:15:07.237Z"
   },
   {
    "duration": 14,
    "start_time": "2023-09-26T17:15:07.322Z"
   },
   {
    "duration": 23,
    "start_time": "2023-09-26T17:15:07.338Z"
   },
   {
    "duration": 16,
    "start_time": "2023-09-26T17:15:07.363Z"
   },
   {
    "duration": 20,
    "start_time": "2023-09-26T17:15:07.381Z"
   },
   {
    "duration": 52,
    "start_time": "2023-09-26T17:15:07.403Z"
   },
   {
    "duration": 4,
    "start_time": "2023-09-26T17:15:07.457Z"
   },
   {
    "duration": 37,
    "start_time": "2023-09-26T17:15:07.463Z"
   },
   {
    "duration": 25,
    "start_time": "2023-09-26T17:15:07.502Z"
   },
   {
    "duration": 46,
    "start_time": "2023-09-26T17:15:07.528Z"
   },
   {
    "duration": 14,
    "start_time": "2023-09-26T17:15:07.575Z"
   },
   {
    "duration": 52,
    "start_time": "2023-09-26T17:15:07.591Z"
   },
   {
    "duration": 39,
    "start_time": "2023-09-26T17:15:07.645Z"
   },
   {
    "duration": 8,
    "start_time": "2023-09-26T17:15:07.686Z"
   },
   {
    "duration": 49,
    "start_time": "2023-09-26T17:15:07.695Z"
   },
   {
    "duration": 8,
    "start_time": "2023-09-26T17:15:07.746Z"
   },
   {
    "duration": 22,
    "start_time": "2023-09-26T17:15:07.755Z"
   },
   {
    "duration": 37,
    "start_time": "2023-09-26T17:15:07.780Z"
   },
   {
    "duration": 39,
    "start_time": "2023-09-26T17:15:07.819Z"
   },
   {
    "duration": 9,
    "start_time": "2023-09-26T17:15:07.874Z"
   },
   {
    "duration": 21,
    "start_time": "2023-09-26T17:15:07.885Z"
   },
   {
    "duration": 34,
    "start_time": "2023-09-26T17:15:07.908Z"
   },
   {
    "duration": 19,
    "start_time": "2023-09-26T17:15:07.944Z"
   },
   {
    "duration": 21,
    "start_time": "2023-09-26T17:15:07.965Z"
   },
   {
    "duration": 29,
    "start_time": "2023-09-26T17:15:10.845Z"
   },
   {
    "duration": 492,
    "start_time": "2023-09-26T20:51:48.244Z"
   },
   {
    "duration": 25,
    "start_time": "2023-09-26T20:51:48.738Z"
   },
   {
    "duration": 20,
    "start_time": "2023-09-26T20:51:48.764Z"
   },
   {
    "duration": 31,
    "start_time": "2023-09-26T20:51:48.785Z"
   },
   {
    "duration": 42,
    "start_time": "2023-09-26T20:51:48.818Z"
   },
   {
    "duration": 4,
    "start_time": "2023-09-26T20:51:48.862Z"
   },
   {
    "duration": 11,
    "start_time": "2023-09-26T20:51:48.868Z"
   },
   {
    "duration": 30,
    "start_time": "2023-09-26T20:51:48.882Z"
   },
   {
    "duration": 11,
    "start_time": "2023-09-26T20:51:48.914Z"
   },
   {
    "duration": 5,
    "start_time": "2023-09-26T20:51:48.926Z"
   },
   {
    "duration": 48,
    "start_time": "2023-09-26T20:51:48.932Z"
   },
   {
    "duration": 35,
    "start_time": "2023-09-26T20:51:48.983Z"
   },
   {
    "duration": 4,
    "start_time": "2023-09-26T20:51:49.019Z"
   },
   {
    "duration": 16,
    "start_time": "2023-09-26T20:51:49.026Z"
   },
   {
    "duration": 29,
    "start_time": "2023-09-26T20:51:49.044Z"
   },
   {
    "duration": 35,
    "start_time": "2023-09-26T20:51:49.074Z"
   },
   {
    "duration": 4,
    "start_time": "2023-09-26T20:51:49.111Z"
   },
   {
    "duration": 14,
    "start_time": "2023-09-26T20:51:49.117Z"
   },
   {
    "duration": 8,
    "start_time": "2023-09-26T20:51:49.201Z"
   },
   {
    "duration": 6,
    "start_time": "2023-09-26T20:51:49.211Z"
   },
   {
    "duration": 31,
    "start_time": "2023-09-26T20:51:49.219Z"
   },
   {
    "duration": 6,
    "start_time": "2023-09-26T20:51:49.252Z"
   },
   {
    "duration": 20,
    "start_time": "2023-09-26T20:51:49.260Z"
   },
   {
    "duration": 27,
    "start_time": "2023-09-26T20:51:49.282Z"
   },
   {
    "duration": 32,
    "start_time": "2023-09-26T20:51:49.311Z"
   },
   {
    "duration": 7,
    "start_time": "2023-09-26T20:51:49.344Z"
   },
   {
    "duration": 8,
    "start_time": "2023-09-26T20:51:49.352Z"
   },
   {
    "duration": 9,
    "start_time": "2023-09-26T20:51:49.362Z"
   },
   {
    "duration": 38,
    "start_time": "2023-09-26T20:51:49.373Z"
   },
   {
    "duration": 10,
    "start_time": "2023-09-26T20:51:49.414Z"
   },
   {
    "duration": 39,
    "start_time": "2023-09-26T20:51:49.426Z"
   },
   {
    "duration": 6,
    "start_time": "2023-09-26T20:51:49.467Z"
   },
   {
    "duration": 7,
    "start_time": "2023-09-26T20:51:49.474Z"
   },
   {
    "duration": 32,
    "start_time": "2023-09-26T20:51:49.483Z"
   },
   {
    "duration": 54,
    "start_time": "2023-09-26T20:51:49.517Z"
   },
   {
    "duration": 12,
    "start_time": "2023-09-26T20:51:49.573Z"
   },
   {
    "duration": 11,
    "start_time": "2023-09-26T20:51:49.588Z"
   },
   {
    "duration": 522,
    "start_time": "2023-09-26T20:52:00.385Z"
   },
   {
    "duration": 24,
    "start_time": "2023-09-26T20:52:00.909Z"
   },
   {
    "duration": 31,
    "start_time": "2023-09-26T20:52:00.934Z"
   },
   {
    "duration": 30,
    "start_time": "2023-09-26T20:52:00.967Z"
   },
   {
    "duration": 53,
    "start_time": "2023-09-26T20:52:00.999Z"
   },
   {
    "duration": 5,
    "start_time": "2023-09-26T20:52:01.054Z"
   },
   {
    "duration": 33,
    "start_time": "2023-09-26T20:52:01.060Z"
   },
   {
    "duration": 32,
    "start_time": "2023-09-26T20:52:01.095Z"
   },
   {
    "duration": 41,
    "start_time": "2023-09-26T20:52:01.129Z"
   },
   {
    "duration": 33,
    "start_time": "2023-09-26T20:52:01.172Z"
   },
   {
    "duration": 64,
    "start_time": "2023-09-26T20:52:01.207Z"
   },
   {
    "duration": 22,
    "start_time": "2023-09-26T20:52:01.273Z"
   },
   {
    "duration": 37,
    "start_time": "2023-09-26T20:52:01.297Z"
   },
   {
    "duration": 53,
    "start_time": "2023-09-26T20:52:01.338Z"
   },
   {
    "duration": 65,
    "start_time": "2023-09-26T20:52:01.393Z"
   },
   {
    "duration": 49,
    "start_time": "2023-09-26T20:52:01.460Z"
   },
   {
    "duration": 26,
    "start_time": "2023-09-26T20:52:01.511Z"
   },
   {
    "duration": 62,
    "start_time": "2023-09-26T20:52:01.538Z"
   },
   {
    "duration": 136,
    "start_time": "2023-09-26T20:52:01.601Z"
   },
   {
    "duration": 58,
    "start_time": "2023-09-26T20:52:01.739Z"
   },
   {
    "duration": 55,
    "start_time": "2023-09-26T20:52:01.798Z"
   },
   {
    "duration": 79,
    "start_time": "2023-09-26T20:52:01.855Z"
   },
   {
    "duration": 98,
    "start_time": "2023-09-26T20:52:01.935Z"
   },
   {
    "duration": 147,
    "start_time": "2023-09-26T20:52:02.035Z"
   },
   {
    "duration": 56,
    "start_time": "2023-09-26T20:52:02.184Z"
   },
   {
    "duration": 9,
    "start_time": "2023-09-26T20:52:02.242Z"
   },
   {
    "duration": 18,
    "start_time": "2023-09-26T20:52:02.253Z"
   },
   {
    "duration": 26,
    "start_time": "2023-09-26T20:52:02.273Z"
   },
   {
    "duration": 51,
    "start_time": "2023-09-26T20:52:02.300Z"
   },
   {
    "duration": 8,
    "start_time": "2023-09-26T20:52:02.353Z"
   },
   {
    "duration": 28,
    "start_time": "2023-09-26T20:52:02.363Z"
   },
   {
    "duration": 21,
    "start_time": "2023-09-26T20:52:02.394Z"
   },
   {
    "duration": 15,
    "start_time": "2023-09-26T20:52:02.417Z"
   },
   {
    "duration": 18,
    "start_time": "2023-09-26T20:52:02.434Z"
   },
   {
    "duration": 64,
    "start_time": "2023-09-26T20:52:02.454Z"
   },
   {
    "duration": 9,
    "start_time": "2023-09-26T20:52:02.521Z"
   },
   {
    "duration": 14,
    "start_time": "2023-09-26T20:52:02.533Z"
   },
   {
    "duration": 14,
    "start_time": "2023-09-26T20:52:02.549Z"
   },
   {
    "duration": 72,
    "start_time": "2023-09-26T20:52:02.565Z"
   },
   {
    "duration": 15,
    "start_time": "2023-09-26T20:52:02.639Z"
   },
   {
    "duration": 32,
    "start_time": "2023-09-26T20:52:02.658Z"
   },
   {
    "duration": 347,
    "start_time": "2023-09-26T21:10:04.248Z"
   },
   {
    "duration": 273,
    "start_time": "2023-09-26T21:11:31.480Z"
   }
  ],
  "colab": {
   "provenance": []
  },
  "kernelspec": {
   "display_name": "Python 3 (ipykernel)",
   "language": "python",
   "name": "python3"
  },
  "language_info": {
   "codemirror_mode": {
    "name": "ipython",
    "version": 3
   },
   "file_extension": ".py",
   "mimetype": "text/x-python",
   "name": "python",
   "nbconvert_exporter": "python",
   "pygments_lexer": "ipython3",
   "version": "3.9.5"
  },
  "toc": {
   "base_numbering": 1,
   "nav_menu": {},
   "number_sections": true,
   "sideBar": true,
   "skip_h1_title": true,
   "title_cell": "Table of Contents",
   "title_sidebar": "Contents",
   "toc_cell": false,
   "toc_position": {},
   "toc_section_display": true,
   "toc_window_display": true
  }
 },
 "nbformat": 4,
 "nbformat_minor": 5
}
